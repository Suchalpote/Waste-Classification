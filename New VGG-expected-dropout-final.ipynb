{
 "cells": [
  {
   "cell_type": "code",
   "execution_count": 1,
   "id": "df9d47c6",
   "metadata": {},
   "outputs": [
    {
     "name": "stdout",
     "output_type": "stream",
     "text": [
      "2.9.1\n"
     ]
    }
   ],
   "source": [
    "import tensorflow as tf\n",
    "print(tf.__version__)"
   ]
  },
  {
   "cell_type": "code",
   "execution_count": 2,
   "id": "3c7c8210",
   "metadata": {},
   "outputs": [
    {
     "name": "stdout",
     "output_type": "stream",
     "text": [
      "Current Python Version- 3.9.7\n"
     ]
    }
   ],
   "source": [
    "from platform import python_version\n",
    " \n",
    " \n",
    "print(\"Current Python Version-\", python_version())"
   ]
  },
  {
   "cell_type": "code",
   "execution_count": 3,
   "id": "bc295c8d",
   "metadata": {},
   "outputs": [],
   "source": [
    "from keras.layers import Input, Lambda, Dense, Flatten\n",
    "from keras.models import Model\n",
    "from keras.applications.vgg16 import VGG16\n",
    "from keras.applications.vgg16 import preprocess_input\n",
    "from keras.applications.vgg19 import VGG19\n",
    "from keras.preprocessing import image\n",
    "from keras.preprocessing.image import ImageDataGenerator\n",
    "from keras.models import Sequential\n",
    "import numpy as np\n",
    "from glob import glob\n",
    "import matplotlib.pyplot as plt\n",
    "import os\n",
    "from tensorflow.keras.layers import BatchNormalization\n",
    "from keras.layers import Dense, GlobalAveragePooling2D, Dropout\n",
    "from keras.layers import Dropout\n",
    "from keras import regularizers\n",
    "\n",
    "#from sklearn.model_selection import train_test_split"
   ]
  },
  {
   "cell_type": "code",
   "execution_count": 4,
   "id": "e74b3dc9",
   "metadata": {},
   "outputs": [],
   "source": [
    "# set image size\n",
    "IMAGE_SIZE = [224, 224]"
   ]
  },
  {
   "cell_type": "code",
   "execution_count": 5,
   "id": "bf4cf946",
   "metadata": {},
   "outputs": [],
   "source": [
    "train_dir = 'Dataset\\train'\n",
    "test_dir = 'Dataset\\test'"
   ]
  },
  {
   "cell_type": "code",
   "execution_count": 6,
   "id": "cf37d197",
   "metadata": {},
   "outputs": [],
   "source": [
    "# adding preprocessing layer to the front of VGG\n",
    "Myvgg = VGG16(input_shape=IMAGE_SIZE + [3], weights='imagenet', include_top=False)"
   ]
  },
  {
   "cell_type": "code",
   "execution_count": 7,
   "id": "33965877",
   "metadata": {},
   "outputs": [],
   "source": [
    "# do not train current weights\n",
    "for layer in Myvgg.layers:\n",
    "  layer.trainable = False"
   ]
  },
  {
   "cell_type": "code",
   "execution_count": 8,
   "id": "e1cbef12",
   "metadata": {},
   "outputs": [
    {
     "data": {
      "text/plain": [
       "['Dataset/train\\\\cardboard',\n",
       " 'Dataset/train\\\\e-chip',\n",
       " 'Dataset/train\\\\glass',\n",
       " 'Dataset/train\\\\gloves',\n",
       " 'Dataset/train\\\\masks',\n",
       " 'Dataset/train\\\\medicines',\n",
       " 'Dataset/train\\\\metal',\n",
       " 'Dataset/train\\\\paper',\n",
       " 'Dataset/train\\\\plastic',\n",
       " 'Dataset/train\\\\trash']"
      ]
     },
     "execution_count": 8,
     "metadata": {},
     "output_type": "execute_result"
    }
   ],
   "source": [
    "dir = glob('Dataset/train/*')\n",
    "dir"
   ]
  },
  {
   "cell_type": "markdown",
   "id": "c1d34f25",
   "metadata": {},
   "source": [
    "### Check Number of Images in each classes for Training"
   ]
  },
  {
   "cell_type": "code",
   "execution_count": 9,
   "id": "dc6c85f3",
   "metadata": {},
   "outputs": [
    {
     "name": "stdout",
     "output_type": "stream",
     "text": [
      "C:\\Users\\SUCHAL\\Desktop\\Research in Computing\\Thesis\\Codes\\Trial 2 VGG\\Dataset\\train\n"
     ]
    }
   ],
   "source": [
    "cd/Users/SUCHAL/Desktop/Research in Computing/Thesis/Codes/Trial 2 VGG/Dataset/train"
   ]
  },
  {
   "cell_type": "code",
   "execution_count": 10,
   "id": "1ded3504",
   "metadata": {},
   "outputs": [
    {
     "data": {
      "text/plain": [
       "'C:\\\\Users\\\\SUCHAL\\\\Desktop\\\\Research in Computing\\\\Thesis\\\\Codes\\\\Trial 2 VGG\\\\Dataset\\\\train'"
      ]
     },
     "execution_count": 10,
     "metadata": {},
     "output_type": "execute_result"
    }
   ],
   "source": [
    "curr_path = os.getcwd()\n",
    "curr_path"
   ]
  },
  {
   "cell_type": "code",
   "execution_count": 11,
   "id": "a4c1b9c6",
   "metadata": {},
   "outputs": [
    {
     "data": {
      "text/plain": [
       "['cardboard',\n",
       " 'e-chip',\n",
       " 'glass',\n",
       " 'gloves',\n",
       " 'masks',\n",
       " 'medicines',\n",
       " 'metal',\n",
       " 'paper',\n",
       " 'plastic',\n",
       " 'trash']"
      ]
     },
     "execution_count": 11,
     "metadata": {},
     "output_type": "execute_result"
    }
   ],
   "source": [
    "# Show the data classes\n",
    "classes = os.listdir(curr_path)\n",
    "classes"
   ]
  },
  {
   "cell_type": "code",
   "execution_count": 12,
   "id": "a5287bce",
   "metadata": {},
   "outputs": [
    {
     "data": {
      "text/plain": [
       "Text(0, 0.5, 'Number of Training images')"
      ]
     },
     "execution_count": 12,
     "metadata": {},
     "output_type": "execute_result"
    },
    {
     "data": {
      "image/png": "[encoded data removed]",
      "text/plain": [
       "<Figure size 1080x432 with 1 Axes>"
      ]
     },
     "metadata": {
      "needs_background": "light"
     },
     "output_type": "display_data"
    }
   ],
   "source": [
    "# number of images in each class for training datasets\n",
    "import pandas as pd\n",
    "\n",
    "data_dic = {}\n",
    "for folder in os.listdir(curr_path):\n",
    "    data_dic[folder] = len(os.listdir(curr_path + '/' + folder))\n",
    "\n",
    "data_df= pd.Series(data_dic)\n",
    "plt.figure(figsize = (15, 6))\n",
    "data_df.sort_values().plot(kind = 'bar', color=(0.1, 0.7, 0.6, 0.5))\n",
    "plt.xlabel('Training Classes')\n",
    "plt.ylabel('Number of Training images')"
   ]
  },
  {
   "cell_type": "markdown",
   "id": "ce3f7820",
   "metadata": {},
   "source": [
    "### Check Number of Images in each classes for test"
   ]
  },
  {
   "cell_type": "code",
   "execution_count": 13,
   "id": "0b7282f3",
   "metadata": {},
   "outputs": [
    {
     "name": "stdout",
     "output_type": "stream",
     "text": [
      "C:\\Users\\SUCHAL\\Desktop\\Research in Computing\\Thesis\\Codes\\Trial 2 VGG\\Dataset\\test\n"
     ]
    }
   ],
   "source": [
    "cd/Users/SUCHAL/Desktop/Research in Computing/Thesis/Codes/Trial 2 VGG/Dataset/test"
   ]
  },
  {
   "cell_type": "code",
   "execution_count": 14,
   "id": "0e1ee254",
   "metadata": {},
   "outputs": [
    {
     "data": {
      "text/plain": [
       "'C:\\\\Users\\\\SUCHAL\\\\Desktop\\\\Research in Computing\\\\Thesis\\\\Codes\\\\Trial 2 VGG\\\\Dataset\\\\test'"
      ]
     },
     "execution_count": 14,
     "metadata": {},
     "output_type": "execute_result"
    }
   ],
   "source": [
    "curr_path = os.getcwd()\n",
    "curr_path"
   ]
  },
  {
   "cell_type": "code",
   "execution_count": 15,
   "id": "89f93d29",
   "metadata": {},
   "outputs": [
    {
     "data": {
      "text/plain": [
       "Text(0, 0.5, 'Number of Valedation images')"
      ]
     },
     "execution_count": 15,
     "metadata": {},
     "output_type": "execute_result"
    },
    {
     "data": {
      "image/png": "[encoded data removed]",
      "text/plain": [
       "<Figure size 1080x432 with 1 Axes>"
      ]
     },
     "metadata": {
      "needs_background": "light"
     },
     "output_type": "display_data"
    }
   ],
   "source": [
    "# number of images in each class for training datasets\n",
    "data_dic = {}\n",
    "for folder in os.listdir(curr_path):\n",
    "    data_dic[folder] = len(os.listdir(curr_path + '/' + folder))\n",
    "\n",
    "data_df= pd.Series(data_dic)\n",
    "plt.figure(figsize = (15, 6))\n",
    "data_df.sort_values().plot(kind = 'bar', color=(0.1, 0.7, 0.6, 0.5))\n",
    "plt.xlabel('Testing Classes')\n",
    "plt.ylabel('Number of Valedation images')\n"
   ]
  },
  {
   "cell_type": "code",
   "execution_count": 16,
   "id": "0d38890a",
   "metadata": {},
   "outputs": [
    {
     "name": "stdout",
     "output_type": "stream",
     "text": [
      "Model: \"vgg16\"\n",
      "_________________________________________________________________\n",
      " Layer (type)                Output Shape              Param #   \n",
      "=================================================================\n",
      " input_1 (InputLayer)        [(None, 224, 224, 3)]     0         \n",
      "                                                                 \n",
      " block1_conv1 (Conv2D)       (None, 224, 224, 64)      1792      \n",
      "                                                                 \n",
      " block1_conv2 (Conv2D)       (None, 224, 224, 64)      36928     \n",
      "                                                                 \n",
      " block1_pool (MaxPooling2D)  (None, 112, 112, 64)      0         \n",
      "                                                                 \n",
      " block2_conv1 (Conv2D)       (None, 112, 112, 128)     73856     \n",
      "                                                                 \n",
      " block2_conv2 (Conv2D)       (None, 112, 112, 128)     147584    \n",
      "                                                                 \n",
      " block2_pool (MaxPooling2D)  (None, 56, 56, 128)       0         \n",
      "                                                                 \n",
      " block3_conv1 (Conv2D)       (None, 56, 56, 256)       295168    \n",
      "                                                                 \n",
      " block3_conv2 (Conv2D)       (None, 56, 56, 256)       590080    \n",
      "                                                                 \n",
      " block3_conv3 (Conv2D)       (None, 56, 56, 256)       590080    \n",
      "                                                                 \n",
      " block3_pool (MaxPooling2D)  (None, 28, 28, 256)       0         \n",
      "                                                                 \n",
      " block4_conv1 (Conv2D)       (None, 28, 28, 512)       1180160   \n",
      "                                                                 \n",
      " block4_conv2 (Conv2D)       (None, 28, 28, 512)       2359808   \n",
      "                                                                 \n",
      " block4_conv3 (Conv2D)       (None, 28, 28, 512)       2359808   \n",
      "                                                                 \n",
      " block4_pool (MaxPooling2D)  (None, 14, 14, 512)       0         \n",
      "                                                                 \n",
      " block5_conv1 (Conv2D)       (None, 14, 14, 512)       2359808   \n",
      "                                                                 \n",
      " block5_conv2 (Conv2D)       (None, 14, 14, 512)       2359808   \n",
      "                                                                 \n",
      " block5_conv3 (Conv2D)       (None, 14, 14, 512)       2359808   \n",
      "                                                                 \n",
      " block5_pool (MaxPooling2D)  (None, 7, 7, 512)         0         \n",
      "                                                                 \n",
      "=================================================================\n",
      "Total params: 14,714,688\n",
      "Trainable params: 0\n",
      "Non-trainable params: 14,714,688\n",
      "_________________________________________________________________\n"
     ]
    }
   ],
   "source": [
    "Myvgg.summary()"
   ]
  },
  {
   "cell_type": "code",
   "execution_count": 17,
   "id": "07700b00",
   "metadata": {},
   "outputs": [],
   "source": [
    "# preparing model structure\n",
    "x = Flatten(name='flatten')(Myvgg.output)"
   ]
  },
  {
   "cell_type": "code",
   "execution_count": 18,
   "id": "e35738b6",
   "metadata": {},
   "outputs": [],
   "source": [
    "x = Dense(4096, activation='relu')(x)\n",
    "x = BatchNormalization()(x)\n",
    "x = Dropout(0.2)(x)"
   ]
  },
  {
   "cell_type": "code",
   "execution_count": 19,
   "id": "714643e5",
   "metadata": {},
   "outputs": [],
   "source": [
    "x = Dense(4096, activation='relu')(x)\n",
    "x = BatchNormalization()(x)\n",
    "x = Dropout(0.2)(x)"
   ]
  },
  {
   "cell_type": "code",
   "execution_count": 20,
   "id": "be847607",
   "metadata": {},
   "outputs": [],
   "source": [
    "predictions= Dense(len(dir), activation='softmax', kernel_initializer='random_uniform', bias_initializer='random_uniform', bias_regularizer=regularizers.l2(0.01), name='predictions')(x)"
   ]
  },
  {
   "cell_type": "code",
   "execution_count": 21,
   "id": "152bcd54",
   "metadata": {},
   "outputs": [],
   "source": [
    "# create a model object\n",
    "model = Model(inputs=Myvgg.input, outputs=predictions)\n"
   ]
  },
  {
   "cell_type": "code",
   "execution_count": 22,
   "id": "35bbfeef",
   "metadata": {},
   "outputs": [
    {
     "name": "stdout",
     "output_type": "stream",
     "text": [
      "Model: \"model\"\n",
      "_________________________________________________________________\n",
      " Layer (type)                Output Shape              Param #   \n",
      "=================================================================\n",
      " input_1 (InputLayer)        [(None, 224, 224, 3)]     0         \n",
      "                                                                 \n",
      " block1_conv1 (Conv2D)       (None, 224, 224, 64)      1792      \n",
      "                                                                 \n",
      " block1_conv2 (Conv2D)       (None, 224, 224, 64)      36928     \n",
      "                                                                 \n",
      " block1_pool (MaxPooling2D)  (None, 112, 112, 64)      0         \n",
      "                                                                 \n",
      " block2_conv1 (Conv2D)       (None, 112, 112, 128)     73856     \n",
      "                                                                 \n",
      " block2_conv2 (Conv2D)       (None, 112, 112, 128)     147584    \n",
      "                                                                 \n",
      " block2_pool (MaxPooling2D)  (None, 56, 56, 128)       0         \n",
      "                                                                 \n",
      " block3_conv1 (Conv2D)       (None, 56, 56, 256)       295168    \n",
      "                                                                 \n",
      " block3_conv2 (Conv2D)       (None, 56, 56, 256)       590080    \n",
      "                                                                 \n",
      " block3_conv3 (Conv2D)       (None, 56, 56, 256)       590080    \n",
      "                                                                 \n",
      " block3_pool (MaxPooling2D)  (None, 28, 28, 256)       0         \n",
      "                                                                 \n",
      " block4_conv1 (Conv2D)       (None, 28, 28, 512)       1180160   \n",
      "                                                                 \n",
      " block4_conv2 (Conv2D)       (None, 28, 28, 512)       2359808   \n",
      "                                                                 \n",
      " block4_conv3 (Conv2D)       (None, 28, 28, 512)       2359808   \n",
      "                                                                 \n",
      " block4_pool (MaxPooling2D)  (None, 14, 14, 512)       0         \n",
      "                                                                 \n",
      " block5_conv1 (Conv2D)       (None, 14, 14, 512)       2359808   \n",
      "                                                                 \n",
      " block5_conv2 (Conv2D)       (None, 14, 14, 512)       2359808   \n",
      "                                                                 \n",
      " block5_conv3 (Conv2D)       (None, 14, 14, 512)       2359808   \n",
      "                                                                 \n",
      " block5_pool (MaxPooling2D)  (None, 7, 7, 512)         0         \n",
      "                                                                 \n",
      " flatten (Flatten)           (None, 25088)             0         \n",
      "                                                                 \n",
      " dense (Dense)               (None, 4096)              102764544 \n",
      "                                                                 \n",
      " batch_normalization (BatchN  (None, 4096)             16384     \n",
      " ormalization)                                                   \n",
      "                                                                 \n",
      " dropout (Dropout)           (None, 4096)              0         \n",
      "                                                                 \n",
      " dense_1 (Dense)             (None, 4096)              16781312  \n",
      "                                                                 \n",
      " batch_normalization_1 (Batc  (None, 4096)             16384     \n",
      " hNormalization)                                                 \n",
      "                                                                 \n",
      " dropout_1 (Dropout)         (None, 4096)              0         \n",
      "                                                                 \n",
      " predictions (Dense)         (None, 10)                40970     \n",
      "                                                                 \n",
      "=================================================================\n",
      "Total params: 134,334,282\n",
      "Trainable params: 119,603,210\n",
      "Non-trainable params: 14,731,072\n",
      "_________________________________________________________________\n"
     ]
    }
   ],
   "source": [
    "model.summary()"
   ]
  },
  {
   "cell_type": "code",
   "execution_count": 23,
   "id": "2864cbec",
   "metadata": {},
   "outputs": [],
   "source": [
    "model.compile(optimizer='adam', loss='categorical_crossentropy', metrics=['accuracy'])"
   ]
  },
  {
   "cell_type": "code",
   "execution_count": 24,
   "id": "9bc21ca7",
   "metadata": {},
   "outputs": [],
   "source": [
    "train_datagen = ImageDataGenerator(rescale = 1./255,\n",
    "                                   shear_range = 0.2,\n",
    "                                   zoom_range = 0.2,\n",
    "                                   horizontal_flip = True)\n",
    "\n",
    "test_datagen = ImageDataGenerator(rescale = 1./255)"
   ]
  },
  {
   "cell_type": "code",
   "execution_count": 25,
   "id": "008952b9",
   "metadata": {},
   "outputs": [
    {
     "name": "stdout",
     "output_type": "stream",
     "text": [
      "Found 2099 images belonging to 10 classes.\n",
      "Found 2058 images belonging to 10 classes.\n"
     ]
    }
   ],
   "source": [
    "training_set = train_datagen.flow_from_directory(\"C:\\\\Users\\\\SUCHAL\\\\Desktop\\\\Research in Computing\\\\Thesis\\\\Codes\\\\Trial 2 VGG\\\\Dataset\\\\train\",\n",
    "                                                 target_size = (224, 224),\n",
    "                                                 batch_size = 32,\n",
    "                                                 class_mode = 'categorical')\n",
    "\n",
    "test_set = test_datagen.flow_from_directory(\"C:\\\\Users\\\\SUCHAL\\\\Desktop\\\\Research in Computing\\\\Thesis\\\\Codes\\\\Trial 2 VGG\\\\Dataset\\\\test\",\n",
    "                                            target_size = (224, 224),\n",
    "                                            batch_size = 32,\n",
    "                                            class_mode = 'categorical')"
   ]
  },
  {
   "cell_type": "code",
   "execution_count": 26,
   "id": "4ca084f8",
   "metadata": {},
   "outputs": [
    {
     "name": "stdout",
     "output_type": "stream",
     "text": [
      "Epoch 1/15\n",
      "66/66 [==============================] - 568s 9s/step - loss: 3.6423 - accuracy: 0.5312 - val_loss: 16.4524 - val_accuracy: 0.3659\n",
      "Epoch 2/15\n",
      "66/66 [==============================] - 554s 8s/step - loss: 1.1230 - accuracy: 0.7203 - val_loss: 4.3801 - val_accuracy: 0.5554\n",
      "Epoch 3/15\n",
      "66/66 [==============================] - 552s 8s/step - loss: 0.7952 - accuracy: 0.7842 - val_loss: 2.3571 - val_accuracy: 0.6608\n",
      "Epoch 4/15\n",
      "66/66 [==============================] - 553s 8s/step - loss: 0.6766 - accuracy: 0.8113 - val_loss: 2.1002 - val_accuracy: 0.6560\n",
      "Epoch 5/15\n",
      "66/66 [==============================] - 553s 8s/step - loss: 0.5695 - accuracy: 0.8447 - val_loss: 2.0500 - val_accuracy: 0.6618\n",
      "Epoch 6/15\n",
      "66/66 [==============================] - 554s 8s/step - loss: 0.4959 - accuracy: 0.8685 - val_loss: 2.1594 - val_accuracy: 0.6812\n",
      "Epoch 7/15\n",
      "66/66 [==============================] - 566s 9s/step - loss: 0.5381 - accuracy: 0.8690 - val_loss: 2.2286 - val_accuracy: 0.6662\n",
      "Epoch 8/15\n",
      "66/66 [==============================] - 742s 11s/step - loss: 0.5022 - accuracy: 0.8757 - val_loss: 2.5143 - val_accuracy: 0.6769\n",
      "Epoch 9/15\n",
      "66/66 [==============================] - 1191s 18s/step - loss: 0.4396 - accuracy: 0.8880 - val_loss: 2.0676 - val_accuracy: 0.7119\n",
      "Epoch 10/15\n",
      "66/66 [==============================] - 1189s 18s/step - loss: 0.3411 - accuracy: 0.9085 - val_loss: 1.8005 - val_accuracy: 0.7323\n",
      "Epoch 11/15\n",
      "66/66 [==============================] - 1190s 18s/step - loss: 0.3261 - accuracy: 0.9195 - val_loss: 2.1915 - val_accuracy: 0.7187\n",
      "Epoch 12/15\n",
      "66/66 [==============================] - 1109s 17s/step - loss: 0.3043 - accuracy: 0.9128 - val_loss: 2.0127 - val_accuracy: 0.7298\n",
      "Epoch 13/15\n",
      "66/66 [==============================] - 626s 10s/step - loss: 0.2947 - accuracy: 0.9247 - val_loss: 1.8838 - val_accuracy: 0.7371\n",
      "Epoch 14/15\n",
      "66/66 [==============================] - 624s 10s/step - loss: 0.2874 - accuracy: 0.9195 - val_loss: 2.2652 - val_accuracy: 0.6914\n",
      "Epoch 15/15\n",
      "66/66 [==============================] - 602s 9s/step - loss: 0.2690 - accuracy: 0.9242 - val_loss: 1.9717 - val_accuracy: 0.7362\n"
     ]
    }
   ],
   "source": [
    "# fit the model\n",
    "r = model.fit(training_set, validation_data=test_set, epochs=15, steps_per_epoch=len(training_set), validation_steps=len(test_set))"
   ]
  },
  {
   "cell_type": "code",
   "execution_count": 27,
   "id": "bee7dc4d",
   "metadata": {},
   "outputs": [
    {
     "name": "stdout",
     "output_type": "stream",
     "text": [
      "C:\\Users\\SUCHAL\\Desktop\\Research in Computing\\Thesis\\Codes\\Trial 2 VGG\n"
     ]
    }
   ],
   "source": [
    "cd/Users/SUCHAL/Desktop/Research in Computing/Thesis/Codes/Trial 2 VGG"
   ]
  },
  {
   "cell_type": "code",
   "execution_count": 28,
   "id": "447899cc",
   "metadata": {},
   "outputs": [
    {
     "data": {
      "image/png": "[encoded data removed]",
      "text/plain": [
       "<Figure size 432x288 with 1 Axes>"
      ]
     },
     "metadata": {
      "needs_background": "light"
     },
     "output_type": "display_data"
    },
    {
     "data": {
      "text/plain": [
       "<Figure size 432x288 with 0 Axes>"
      ]
     },
     "metadata": {},
     "output_type": "display_data"
    }
   ],
   "source": [
    "# loss\n",
    "plt.plot(r.history['loss'], label='train loss')\n",
    "plt.plot(r.history['val_loss'], label='val loss')\n",
    "plt.legend()\n",
    "plt.show()\n",
    "plt.savefig('LossVal_loss')"
   ]
  },
  {
   "cell_type": "code",
   "execution_count": 29,
   "id": "72da154c",
   "metadata": {},
   "outputs": [
    {
     "data": {
      "image/png": "[encoded data removed]",
      "text/plain": [
       "<Figure size 432x288 with 1 Axes>"
      ]
     },
     "metadata": {
      "needs_background": "light"
     },
     "output_type": "display_data"
    },
    {
     "data": {
      "text/plain": [
       "<Figure size 432x288 with 0 Axes>"
      ]
     },
     "metadata": {},
     "output_type": "display_data"
    }
   ],
   "source": [
    "# accuracies\n",
    "plt.plot(r.history['accuracy'], label='train acc')\n",
    "plt.plot(r.history['val_accuracy'], label='val acc')\n",
    "plt.legend()\n",
    "plt.show()\n",
    "plt.savefig('AccVal_acc')"
   ]
  },
  {
   "cell_type": "code",
   "execution_count": 30,
   "id": "be36039d",
   "metadata": {},
   "outputs": [
    {
     "name": "stdout",
     "output_type": "stream",
     "text": [
      "Test Loss 1.9717488288879395\n",
      "Test accuracy 0.7361515760421753\n"
     ]
    }
   ],
   "source": [
    "# Score\n",
    "score = model.evaluate(test_set, verbose=0)\n",
    "print('Test Loss', score[0])\n",
    "print('Test accuracy', score[1])"
   ]
  },
  {
   "cell_type": "code",
   "execution_count": 31,
   "id": "7ad6a8f2",
   "metadata": {},
   "outputs": [],
   "source": [
    "#Save the trained model\n",
    "from tensorflow.keras.models import load_model\n",
    "model.save('my_vgg16_3.h5')"
   ]
  },
  {
   "cell_type": "code",
   "execution_count": 32,
   "id": "33641ae0",
   "metadata": {},
   "outputs": [],
   "source": [
    "### Prediction"
   ]
  },
  {
   "cell_type": "code",
   "execution_count": 33,
   "id": "bc7bfbcf",
   "metadata": {},
   "outputs": [
    {
     "name": "stdout",
     "output_type": "stream",
     "text": [
      "65/65 [==============================] - 302s 5s/step\n"
     ]
    }
   ],
   "source": [
    "y_pred = model.predict(test_set)"
   ]
  },
  {
   "cell_type": "code",
   "execution_count": 34,
   "id": "2994050b",
   "metadata": {},
   "outputs": [
    {
     "data": {
      "text/plain": [
       "array([[1.3109671e-19, 2.8957411e-28, 8.9020137e-26, ..., 1.0000000e+00,\n",
       "        7.8891745e-21, 6.5917874e-18],\n",
       "       [2.6129667e-32, 2.9434884e-34, 2.9450481e-35, ..., 0.0000000e+00,\n",
       "        1.4074901e-38, 1.7126436e-19],\n",
       "       [9.9262804e-21, 1.0000000e+00, 3.9339725e-19, ..., 1.8731885e-18,\n",
       "        8.3889655e-18, 2.2482616e-16],\n",
       "       ...,\n",
       "       [1.0083387e-07, 8.4009844e-05, 1.5358644e-08, ..., 9.0521172e-07,\n",
       "        1.1401844e-16, 5.9507741e-03],\n",
       "       [3.0123716e-34, 3.1207409e-35, 2.4039106e-25, ..., 0.0000000e+00,\n",
       "        1.2685756e-25, 6.3594525e-28],\n",
       "       [5.1233405e-03, 1.2553273e-09, 1.0797451e-06, ..., 9.9483597e-01,\n",
       "        2.7235345e-09, 9.3915126e-11]], dtype=float32)"
      ]
     },
     "execution_count": 34,
     "metadata": {},
     "output_type": "execute_result"
    }
   ],
   "source": [
    "y_pred"
   ]
  },
  {
   "cell_type": "code",
   "execution_count": 35,
   "id": "28bbd583",
   "metadata": {},
   "outputs": [],
   "source": [
    "#from keras.preprocessing.image import load_img\n",
    "from keras_preprocessing.image import load_img\n",
    "from keras.applications.imagenet_utils import preprocess_input\n",
    "import numpy as np\n",
    "from skimage.io import imread\n",
    "from pylab import *\n"
   ]
  },
  {
   "cell_type": "code",
   "execution_count": 36,
   "id": "6e2e5a7f",
   "metadata": {},
   "outputs": [],
   "source": [
    "import numpy as np\n",
    "y_pred = np.argmax(y_pred, axis=1)"
   ]
  },
  {
   "cell_type": "code",
   "execution_count": 37,
   "id": "10132f97",
   "metadata": {},
   "outputs": [
    {
     "data": {
      "text/plain": [
       "array([7, 5, 1, ..., 4, 5, 7], dtype=int64)"
      ]
     },
     "execution_count": 37,
     "metadata": {},
     "output_type": "execute_result"
    }
   ],
   "source": [
    "y_pred"
   ]
  },
  {
   "cell_type": "code",
   "execution_count": 38,
   "id": "f5e264f6",
   "metadata": {},
   "outputs": [],
   "source": [
    "from tensorflow.keras.models import load_model\n",
    "from tensorflow.keras.preprocessing import image"
   ]
  },
  {
   "cell_type": "code",
   "execution_count": 39,
   "id": "98f2757b",
   "metadata": {},
   "outputs": [],
   "source": [
    "#Load the model\n",
    "model=load_model('my_vgg16_2.h5')\n"
   ]
  },
  {
   "cell_type": "code",
   "execution_count": 40,
   "id": "2d0093f5",
   "metadata": {},
   "outputs": [],
   "source": [
    "from tensorflow.keras.preprocessing import image\n",
    "from tensorflow.keras.preprocessing.image import load_img\n",
    "from keras.preprocessing import image\n",
    "from keras.preprocessing import image\n",
    "from keras.preprocessing.image import ImageDataGenerator"
   ]
  },
  {
   "cell_type": "code",
   "execution_count": 41,
   "id": "c84a634b",
   "metadata": {},
   "outputs": [
    {
     "data": {
      "text/plain": [
       "<matplotlib.image.AxesImage at 0x1b885f4f3a0>"
      ]
     },
     "execution_count": 41,
     "metadata": {},
     "output_type": "execute_result"
    },
    {
     "data": {
      "image/png": "[encoded data removed]",
      "text/plain": [
       "<Figure size 432x288 with 1 Axes>"
      ]
     },
     "metadata": {
      "needs_background": "light"
     },
     "output_type": "display_data"
    }
   ],
   "source": [
    "# Import the image for prediction\n",
    "from tensorflow.keras.preprocessing import image\n",
    "img=image.load_img(\"C:\\\\Users\\\\SUCHAL\\\\Desktop\\\\Research in Computing\\\\Thesis\\\\Codes\\\\Trial 2 VGG\\\\Dataset\\\\test\\\\metal\\\\metal210.jpg\",target_size=(224,224))\n",
    "imshow(img)"
   ]
  },
  {
   "cell_type": "code",
   "execution_count": 42,
   "id": "4dd939bf",
   "metadata": {},
   "outputs": [
    {
     "data": {
      "text/plain": [
       "array([[[234., 234., 234.],\n",
       "        [234., 234., 234.],\n",
       "        [234., 234., 234.],\n",
       "        ...,\n",
       "        [201., 202., 197.],\n",
       "        [200., 201., 196.],\n",
       "        [199., 200., 195.]],\n",
       "\n",
       "       [[234., 234., 234.],\n",
       "        [234., 234., 234.],\n",
       "        [234., 234., 234.],\n",
       "        ...,\n",
       "        [201., 202., 197.],\n",
       "        [200., 201., 196.],\n",
       "        [199., 200., 195.]],\n",
       "\n",
       "       [[234., 234., 234.],\n",
       "        [234., 234., 234.],\n",
       "        [234., 234., 234.],\n",
       "        ...,\n",
       "        [201., 202., 197.],\n",
       "        [200., 201., 196.],\n",
       "        [199., 200., 195.]],\n",
       "\n",
       "       ...,\n",
       "\n",
       "       [[240., 242., 237.],\n",
       "        [240., 242., 237.],\n",
       "        [240., 242., 237.],\n",
       "        ...,\n",
       "        [223., 225., 220.],\n",
       "        [223., 225., 220.],\n",
       "        [221., 223., 218.]],\n",
       "\n",
       "       [[240., 242., 237.],\n",
       "        [240., 242., 237.],\n",
       "        [240., 242., 237.],\n",
       "        ...,\n",
       "        [223., 225., 220.],\n",
       "        [223., 225., 220.],\n",
       "        [221., 223., 218.]],\n",
       "\n",
       "       [[240., 242., 237.],\n",
       "        [240., 242., 237.],\n",
       "        [240., 242., 237.],\n",
       "        ...,\n",
       "        [223., 225., 220.],\n",
       "        [223., 225., 220.],\n",
       "        [221., 223., 218.]]], dtype=float32)"
      ]
     },
     "execution_count": 42,
     "metadata": {},
     "output_type": "execute_result"
    }
   ],
   "source": [
    "x=image.img_to_array(img)\n",
    "x"
   ]
  },
  {
   "cell_type": "code",
   "execution_count": 43,
   "id": "f3f79774",
   "metadata": {},
   "outputs": [
    {
     "data": {
      "text/plain": [
       "(224, 224, 3)"
      ]
     },
     "execution_count": 43,
     "metadata": {},
     "output_type": "execute_result"
    }
   ],
   "source": [
    "x.shape\n"
   ]
  },
  {
   "cell_type": "code",
   "execution_count": 44,
   "id": "d4fb7f5c",
   "metadata": {},
   "outputs": [],
   "source": [
    "#x=x/255"
   ]
  },
  {
   "cell_type": "code",
   "execution_count": 45,
   "id": "46049444",
   "metadata": {},
   "outputs": [
    {
     "data": {
      "text/plain": [
       "(1, 224, 224, 3)"
      ]
     },
     "execution_count": 45,
     "metadata": {},
     "output_type": "execute_result"
    }
   ],
   "source": [
    "import numpy as np\n",
    "x=np.expand_dims(x,axis=0)\n",
    "img_data=preprocess_input(x)\n",
    "img_data.shape"
   ]
  },
  {
   "cell_type": "code",
   "execution_count": 46,
   "id": "3e8b120f",
   "metadata": {},
   "outputs": [
    {
     "data": {
      "text/plain": [
       "array([[[[130.061, 117.221, 110.32 ],\n",
       "         [130.061, 117.221, 110.32 ],\n",
       "         [130.061, 117.221, 110.32 ],\n",
       "         ...,\n",
       "         [ 93.061,  85.221,  77.32 ],\n",
       "         [ 92.061,  84.221,  76.32 ],\n",
       "         [ 91.061,  83.221,  75.32 ]],\n",
       "\n",
       "        [[130.061, 117.221, 110.32 ],\n",
       "         [130.061, 117.221, 110.32 ],\n",
       "         [130.061, 117.221, 110.32 ],\n",
       "         ...,\n",
       "         [ 93.061,  85.221,  77.32 ],\n",
       "         [ 92.061,  84.221,  76.32 ],\n",
       "         [ 91.061,  83.221,  75.32 ]],\n",
       "\n",
       "        [[130.061, 117.221, 110.32 ],\n",
       "         [130.061, 117.221, 110.32 ],\n",
       "         [130.061, 117.221, 110.32 ],\n",
       "         ...,\n",
       "         [ 93.061,  85.221,  77.32 ],\n",
       "         [ 92.061,  84.221,  76.32 ],\n",
       "         [ 91.061,  83.221,  75.32 ]],\n",
       "\n",
       "        ...,\n",
       "\n",
       "        [[133.061, 125.221, 116.32 ],\n",
       "         [133.061, 125.221, 116.32 ],\n",
       "         [133.061, 125.221, 116.32 ],\n",
       "         ...,\n",
       "         [116.061, 108.221,  99.32 ],\n",
       "         [116.061, 108.221,  99.32 ],\n",
       "         [114.061, 106.221,  97.32 ]],\n",
       "\n",
       "        [[133.061, 125.221, 116.32 ],\n",
       "         [133.061, 125.221, 116.32 ],\n",
       "         [133.061, 125.221, 116.32 ],\n",
       "         ...,\n",
       "         [116.061, 108.221,  99.32 ],\n",
       "         [116.061, 108.221,  99.32 ],\n",
       "         [114.061, 106.221,  97.32 ]],\n",
       "\n",
       "        [[133.061, 125.221, 116.32 ],\n",
       "         [133.061, 125.221, 116.32 ],\n",
       "         [133.061, 125.221, 116.32 ],\n",
       "         ...,\n",
       "         [116.061, 108.221,  99.32 ],\n",
       "         [116.061, 108.221,  99.32 ],\n",
       "         [114.061, 106.221,  97.32 ]]]], dtype=float32)"
      ]
     },
     "execution_count": 46,
     "metadata": {},
     "output_type": "execute_result"
    }
   ],
   "source": [
    "img_data"
   ]
  },
  {
   "cell_type": "code",
   "execution_count": 47,
   "id": "e038b84d",
   "metadata": {},
   "outputs": [
    {
     "name": "stdout",
     "output_type": "stream",
     "text": [
      "1/1 [==============================] - 1s 800ms/step\n"
     ]
    },
    {
     "data": {
      "text/plain": [
       "array([[0., 0., 0., 0., 0., 0., 1., 0., 0., 0.]], dtype=float32)"
      ]
     },
     "execution_count": 47,
     "metadata": {},
     "output_type": "execute_result"
    }
   ],
   "source": [
    "#Predict the class\n",
    "model.predict(img_data)\n"
   ]
  },
  {
   "cell_type": "code",
   "execution_count": 48,
   "id": "16f9d2a0",
   "metadata": {},
   "outputs": [],
   "source": [
    "#1: cardboard, 2:e-chip, 3:glass, 4:gloves, 5:masks, 6:medicines, 7:metal, 8:paper, 9:plastic, 10:trash"
   ]
  },
  {
   "cell_type": "code",
   "execution_count": 49,
   "id": "fdb3a84c",
   "metadata": {},
   "outputs": [
    {
     "name": "stdout",
     "output_type": "stream",
     "text": [
      "1/1 [==============================] - 0s 204ms/step\n"
     ]
    }
   ],
   "source": [
    "a=np.argmax(model.predict(img_data), axis=1)\n"
   ]
  },
  {
   "cell_type": "code",
   "execution_count": 50,
   "id": "29c4cdf6",
   "metadata": {},
   "outputs": [
    {
     "data": {
      "text/plain": [
       "array([False])"
      ]
     },
     "execution_count": 50,
     "metadata": {},
     "output_type": "execute_result"
    }
   ],
   "source": [
    "a==1"
   ]
  },
  {
   "cell_type": "code",
   "execution_count": null,
   "id": "4ea87af9",
   "metadata": {},
   "outputs": [],
   "source": []
  }
 ],
 "metadata": {
  "kernelspec": {
   "display_name": "Python 3 (ipykernel)",
   "language": "python",
   "name": "python3"
  },
  "language_info": {
   "codemirror_mode": {
    "name": "ipython",
    "version": 3
   },
   "file_extension": ".py",
   "mimetype": "text/x-python",
   "name": "python",
   "nbconvert_exporter": "python",
   "pygments_lexer": "ipython3",
   "version": "3.9.7"
  }
 },
 "nbformat": 4,
 "nbformat_minor": 5
}
