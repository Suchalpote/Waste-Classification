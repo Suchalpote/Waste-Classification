{
 "cells": [
  {
   "cell_type": "code",
   "execution_count": 2,
   "id": "df9d47c6",
   "metadata": {},
   "outputs": [
    {
     "name": "stdout",
     "output_type": "stream",
     "text": [
      "2.9.1\n"
     ]
    }
   ],
   "source": [
    "import tensorflow as tf\n",
    "print(tf.__version__)"
   ]
  },
  {
   "cell_type": "code",
   "execution_count": 3,
   "id": "bc295c8d",
   "metadata": {},
   "outputs": [],
   "source": [
    "from keras.layers import Input, Lambda, Dense, Flatten\n",
    "from keras.models import Model\n",
    "from keras.applications.vgg16 import VGG16\n",
    "from keras.applications.vgg16 import preprocess_input\n",
    "from keras.preprocessing import image\n",
    "from keras.preprocessing.image import ImageDataGenerator\n",
    "from keras.models import Sequential\n",
    "import numpy as np\n",
    "from glob import glob\n",
    "import matplotlib.pyplot as plt\n",
    "import os\n",
    "#from sklearn.model_selection import train_test_split"
   ]
  },
  {
   "cell_type": "code",
   "execution_count": 4,
   "id": "e74b3dc9",
   "metadata": {},
   "outputs": [],
   "source": [
    "# set image size\n",
    "IMAGE_SIZE = [224, 224]"
   ]
  },
  {
   "cell_type": "code",
   "execution_count": 5,
   "id": "bf4cf946",
   "metadata": {},
   "outputs": [],
   "source": [
    "train_dir = 'Dataset\\train'\n",
    "test_dir = 'Dataset\\test'"
   ]
  },
  {
   "cell_type": "code",
   "execution_count": 6,
   "id": "cf37d197",
   "metadata": {},
   "outputs": [],
   "source": [
    "# adding preprocessing layer to the front of VGG\n",
    "Myvgg = VGG16(input_shape=IMAGE_SIZE + [3], weights='imagenet', include_top=False)"
   ]
  },
  {
   "cell_type": "code",
   "execution_count": 7,
   "id": "33965877",
   "metadata": {},
   "outputs": [],
   "source": [
    "# do not train current weights\n",
    "for layer in Myvgg.layers:\n",
    "  layer.trainable = False"
   ]
  },
  {
   "cell_type": "code",
   "execution_count": 8,
   "id": "e1cbef12",
   "metadata": {},
   "outputs": [
    {
     "data": {
      "text/plain": [
       "['Dataset/train\\\\cardboard',\n",
       " 'Dataset/train\\\\e-waste',\n",
       " 'Dataset/train\\\\glass',\n",
       " 'Dataset/train\\\\medical',\n",
       " 'Dataset/train\\\\metal',\n",
       " 'Dataset/train\\\\paper',\n",
       " 'Dataset/train\\\\plastic']"
      ]
     },
     "execution_count": 8,
     "metadata": {},
     "output_type": "execute_result"
    }
   ],
   "source": [
    "dir = glob('Dataset/train/*')\n",
    "dir"
   ]
  },
  {
   "cell_type": "code",
   "execution_count": 9,
   "id": "0d38890a",
   "metadata": {},
   "outputs": [
    {
     "name": "stdout",
     "output_type": "stream",
     "text": [
      "Model: \"vgg16\"\n",
      "_________________________________________________________________\n",
      " Layer (type)                Output Shape              Param #   \n",
      "=================================================================\n",
      " input_1 (InputLayer)        [(None, 224, 224, 3)]     0         \n",
      "                                                                 \n",
      " block1_conv1 (Conv2D)       (None, 224, 224, 64)      1792      \n",
      "                                                                 \n",
      " block1_conv2 (Conv2D)       (None, 224, 224, 64)      36928     \n",
      "                                                                 \n",
      " block1_pool (MaxPooling2D)  (None, 112, 112, 64)      0         \n",
      "                                                                 \n",
      " block2_conv1 (Conv2D)       (None, 112, 112, 128)     73856     \n",
      "                                                                 \n",
      " block2_conv2 (Conv2D)       (None, 112, 112, 128)     147584    \n",
      "                                                                 \n",
      " block2_pool (MaxPooling2D)  (None, 56, 56, 128)       0         \n",
      "                                                                 \n",
      " block3_conv1 (Conv2D)       (None, 56, 56, 256)       295168    \n",
      "                                                                 \n",
      " block3_conv2 (Conv2D)       (None, 56, 56, 256)       590080    \n",
      "                                                                 \n",
      " block3_conv3 (Conv2D)       (None, 56, 56, 256)       590080    \n",
      "                                                                 \n",
      " block3_pool (MaxPooling2D)  (None, 28, 28, 256)       0         \n",
      "                                                                 \n",
      " block4_conv1 (Conv2D)       (None, 28, 28, 512)       1180160   \n",
      "                                                                 \n",
      " block4_conv2 (Conv2D)       (None, 28, 28, 512)       2359808   \n",
      "                                                                 \n",
      " block4_conv3 (Conv2D)       (None, 28, 28, 512)       2359808   \n",
      "                                                                 \n",
      " block4_pool (MaxPooling2D)  (None, 14, 14, 512)       0         \n",
      "                                                                 \n",
      " block5_conv1 (Conv2D)       (None, 14, 14, 512)       2359808   \n",
      "                                                                 \n",
      " block5_conv2 (Conv2D)       (None, 14, 14, 512)       2359808   \n",
      "                                                                 \n",
      " block5_conv3 (Conv2D)       (None, 14, 14, 512)       2359808   \n",
      "                                                                 \n",
      " block5_pool (MaxPooling2D)  (None, 7, 7, 512)         0         \n",
      "                                                                 \n",
      "=================================================================\n",
      "Total params: 14,714,688\n",
      "Trainable params: 0\n",
      "Non-trainable params: 14,714,688\n",
      "_________________________________________________________________\n"
     ]
    }
   ],
   "source": [
    "Myvgg.summary()"
   ]
  },
  {
   "cell_type": "code",
   "execution_count": 10,
   "id": "22eaf6f9",
   "metadata": {},
   "outputs": [],
   "source": [
    "# our layers - you can add more if you want\n",
    "#x = Flatten()(vgg.output)\n",
    "#prediction = Dense(len(folders), activation='softmax')(x)"
   ]
  },
  {
   "cell_type": "code",
   "execution_count": 12,
   "id": "07700b00",
   "metadata": {},
   "outputs": [],
   "source": [
    "# preparing model structure\n",
    "\n",
    "x = Flatten(name='flatten')(Myvgg.output)\n",
    "#x = Dense(4096, activation='relu', name='fc1')(x)\n",
    "#x = Dense(4096, activation='relu', name='fc2')(x)\n",
    "x = Dense(len(dir), activation='softmax', name='predictions')(x)"
   ]
  },
  {
   "cell_type": "code",
   "execution_count": 13,
   "id": "152bcd54",
   "metadata": {},
   "outputs": [],
   "source": [
    "# create a model object\n",
    "model = Model(inputs=Myvgg.input, outputs=x)"
   ]
  },
  {
   "cell_type": "code",
   "execution_count": 14,
   "id": "35bbfeef",
   "metadata": {},
   "outputs": [
    {
     "name": "stdout",
     "output_type": "stream",
     "text": [
      "Model: \"model\"\n",
      "_________________________________________________________________\n",
      " Layer (type)                Output Shape              Param #   \n",
      "=================================================================\n",
      " input_1 (InputLayer)        [(None, 224, 224, 3)]     0         \n",
      "                                                                 \n",
      " block1_conv1 (Conv2D)       (None, 224, 224, 64)      1792      \n",
      "                                                                 \n",
      " block1_conv2 (Conv2D)       (None, 224, 224, 64)      36928     \n",
      "                                                                 \n",
      " block1_pool (MaxPooling2D)  (None, 112, 112, 64)      0         \n",
      "                                                                 \n",
      " block2_conv1 (Conv2D)       (None, 112, 112, 128)     73856     \n",
      "                                                                 \n",
      " block2_conv2 (Conv2D)       (None, 112, 112, 128)     147584    \n",
      "                                                                 \n",
      " block2_pool (MaxPooling2D)  (None, 56, 56, 128)       0         \n",
      "                                                                 \n",
      " block3_conv1 (Conv2D)       (None, 56, 56, 256)       295168    \n",
      "                                                                 \n",
      " block3_conv2 (Conv2D)       (None, 56, 56, 256)       590080    \n",
      "                                                                 \n",
      " block3_conv3 (Conv2D)       (None, 56, 56, 256)       590080    \n",
      "                                                                 \n",
      " block3_pool (MaxPooling2D)  (None, 28, 28, 256)       0         \n",
      "                                                                 \n",
      " block4_conv1 (Conv2D)       (None, 28, 28, 512)       1180160   \n",
      "                                                                 \n",
      " block4_conv2 (Conv2D)       (None, 28, 28, 512)       2359808   \n",
      "                                                                 \n",
      " block4_conv3 (Conv2D)       (None, 28, 28, 512)       2359808   \n",
      "                                                                 \n",
      " block4_pool (MaxPooling2D)  (None, 14, 14, 512)       0         \n",
      "                                                                 \n",
      " block5_conv1 (Conv2D)       (None, 14, 14, 512)       2359808   \n",
      "                                                                 \n",
      " block5_conv2 (Conv2D)       (None, 14, 14, 512)       2359808   \n",
      "                                                                 \n",
      " block5_conv3 (Conv2D)       (None, 14, 14, 512)       2359808   \n",
      "                                                                 \n",
      " block5_pool (MaxPooling2D)  (None, 7, 7, 512)         0         \n",
      "                                                                 \n",
      " flatten (Flatten)           (None, 25088)             0         \n",
      "                                                                 \n",
      " predictions (Dense)         (None, 7)                 175623    \n",
      "                                                                 \n",
      "=================================================================\n",
      "Total params: 14,890,311\n",
      "Trainable params: 175,623\n",
      "Non-trainable params: 14,714,688\n",
      "_________________________________________________________________\n"
     ]
    }
   ],
   "source": [
    "model.summary()"
   ]
  },
  {
   "cell_type": "code",
   "execution_count": 15,
   "id": "2864cbec",
   "metadata": {},
   "outputs": [],
   "source": [
    "model.compile(optimizer='adam', loss='categorical_crossentropy', metrics=['accuracy'])"
   ]
  },
  {
   "cell_type": "code",
   "execution_count": 16,
   "id": "9bc21ca7",
   "metadata": {},
   "outputs": [],
   "source": [
    "train_datagen = ImageDataGenerator(rescale = 1./255,\n",
    "                                   shear_range = 0.2,\n",
    "                                   zoom_range = 0.2,\n",
    "                                   horizontal_flip = True)\n",
    "\n",
    "test_datagen = ImageDataGenerator(rescale = 1./255)"
   ]
  },
  {
   "cell_type": "code",
   "execution_count": 17,
   "id": "008952b9",
   "metadata": {},
   "outputs": [
    {
     "name": "stdout",
     "output_type": "stream",
     "text": [
      "Found 1781 images belonging to 7 classes.\n",
      "Found 1793 images belonging to 7 classes.\n"
     ]
    }
   ],
   "source": [
    "training_set = train_datagen.flow_from_directory(\"C:\\\\Users\\\\SUCHAL\\\\Desktop\\\\Research in Computing\\\\Thesis\\\\Codes\\\\VGG Version 1\\\\Dataset\\\\train\",\n",
    "                                                 target_size = (224, 224),\n",
    "                                                 batch_size = 32,\n",
    "                                                 class_mode = 'categorical')\n",
    "\n",
    "test_set = test_datagen.flow_from_directory(\"C:\\\\Users\\\\SUCHAL\\\\Desktop\\\\Research in Computing\\\\Thesis\\\\Codes\\\\VGG Version 1\\\\Dataset\\\\test\",\n",
    "                                            target_size = (224, 224),\n",
    "                                            batch_size = 32,\n",
    "                                            class_mode = 'categorical')"
   ]
  },
  {
   "cell_type": "code",
   "execution_count": 19,
   "id": "4ca084f8",
   "metadata": {},
   "outputs": [
    {
     "name": "stderr",
     "output_type": "stream",
     "text": [
      "C:\\Users\\SUCHAL\\AppData\\Local\\Temp/ipykernel_3480/3477428198.py:2: UserWarning: `Model.fit_generator` is deprecated and will be removed in a future version. Please use `Model.fit`, which supports generators.\n",
      "  r = model.fit_generator(training_set, validation_data=test_set, epochs=30, steps_per_epoch=len(training_set), validation_steps=len(test_set))\n"
     ]
    },
    {
     "name": "stdout",
     "output_type": "stream",
     "text": [
      "Epoch 1/30\n"
     ]
    },
    {
     "name": "stderr",
     "output_type": "stream",
     "text": [
      "C:\\Users\\SUCHAL\\AppData\\Roaming\\Python\\Python39\\site-packages\\PIL\\Image.py:959: UserWarning: Palette images with Transparency expressed in bytes should be converted to RGBA images\n",
      "  warnings.warn(\n"
     ]
    },
    {
     "name": "stdout",
     "output_type": "stream",
     "text": [
      "56/56 [==============================] - 465s 8s/step - loss: 1.7030 - accuracy: 0.4509 - val_loss: 1.2111 - val_accuracy: 0.5678\n",
      "Epoch 2/30\n",
      "56/56 [==============================] - 438s 8s/step - loss: 0.8142 - accuracy: 0.7103 - val_loss: 1.1872 - val_accuracy: 0.5851\n",
      "Epoch 3/30\n",
      "56/56 [==============================] - 432s 8s/step - loss: 0.6593 - accuracy: 0.7765 - val_loss: 1.1993 - val_accuracy: 0.6074\n",
      "Epoch 4/30\n",
      "56/56 [==============================] - 427s 8s/step - loss: 0.4848 - accuracy: 0.8473 - val_loss: 1.1725 - val_accuracy: 0.6191\n",
      "Epoch 5/30\n",
      "56/56 [==============================] - 434s 8s/step - loss: 0.3981 - accuracy: 0.8815 - val_loss: 1.1183 - val_accuracy: 0.6525\n",
      "Epoch 6/30\n",
      "56/56 [==============================] - 430s 8s/step - loss: 0.3315 - accuracy: 0.9068 - val_loss: 1.1860 - val_accuracy: 0.6230\n",
      "Epoch 7/30\n",
      "56/56 [==============================] - 430s 8s/step - loss: 0.2813 - accuracy: 0.9169 - val_loss: 1.2062 - val_accuracy: 0.6352\n",
      "Epoch 8/30\n",
      "56/56 [==============================] - 429s 8s/step - loss: 0.2304 - accuracy: 0.9416 - val_loss: 1.1864 - val_accuracy: 0.6520\n",
      "Epoch 9/30\n",
      "56/56 [==============================] - 432s 8s/step - loss: 0.1852 - accuracy: 0.9568 - val_loss: 1.2665 - val_accuracy: 0.6325\n",
      "Epoch 10/30\n",
      "56/56 [==============================] - 430s 8s/step - loss: 0.1647 - accuracy: 0.9613 - val_loss: 1.2342 - val_accuracy: 0.6453\n",
      "Epoch 11/30\n",
      "56/56 [==============================] - 438s 8s/step - loss: 0.1363 - accuracy: 0.9759 - val_loss: 1.3076 - val_accuracy: 0.6302\n",
      "Epoch 12/30\n",
      "56/56 [==============================] - 427s 8s/step - loss: 0.1281 - accuracy: 0.9708 - val_loss: 1.3981 - val_accuracy: 0.6219\n",
      "Epoch 13/30\n",
      "56/56 [==============================] - 428s 8s/step - loss: 0.1274 - accuracy: 0.9691 - val_loss: 1.2358 - val_accuracy: 0.6520\n",
      "Epoch 14/30\n",
      "56/56 [==============================] - 428s 8s/step - loss: 0.1034 - accuracy: 0.9803 - val_loss: 1.2520 - val_accuracy: 0.6564\n",
      "Epoch 15/30\n",
      "56/56 [==============================] - 431s 8s/step - loss: 0.0804 - accuracy: 0.9871 - val_loss: 1.2875 - val_accuracy: 0.6520\n",
      "Epoch 16/30\n",
      "56/56 [==============================] - 446s 8s/step - loss: 0.0771 - accuracy: 0.9888 - val_loss: 1.2449 - val_accuracy: 0.6603\n",
      "Epoch 17/30\n",
      "56/56 [==============================] - 441s 8s/step - loss: 0.0792 - accuracy: 0.9871 - val_loss: 1.3316 - val_accuracy: 0.6559\n",
      "Epoch 18/30\n",
      "56/56 [==============================] - 440s 8s/step - loss: 0.0648 - accuracy: 0.9910 - val_loss: 1.3282 - val_accuracy: 0.6514\n",
      "Epoch 19/30\n",
      "56/56 [==============================] - 440s 8s/step - loss: 0.0564 - accuracy: 0.9949 - val_loss: 1.3504 - val_accuracy: 0.6497\n",
      "Epoch 20/30\n",
      "56/56 [==============================] - 433s 8s/step - loss: 0.0736 - accuracy: 0.9854 - val_loss: 1.3731 - val_accuracy: 0.6336\n",
      "Epoch 21/30\n",
      "56/56 [==============================] - 425s 8s/step - loss: 0.0544 - accuracy: 0.9927 - val_loss: 1.4273 - val_accuracy: 0.6464\n",
      "Epoch 22/30\n",
      "56/56 [==============================] - 427s 8s/step - loss: 0.0428 - accuracy: 0.9972 - val_loss: 1.3663 - val_accuracy: 0.6548\n",
      "Epoch 23/30\n",
      "56/56 [==============================] - 424s 8s/step - loss: 0.0452 - accuracy: 0.9944 - val_loss: 1.4098 - val_accuracy: 0.6497\n",
      "Epoch 24/30\n",
      "56/56 [==============================] - 423s 8s/step - loss: 0.0469 - accuracy: 0.9927 - val_loss: 1.4035 - val_accuracy: 0.6447\n",
      "Epoch 25/30\n",
      "56/56 [==============================] - 422s 8s/step - loss: 0.0372 - accuracy: 0.9983 - val_loss: 1.4034 - val_accuracy: 0.6492\n",
      "Epoch 26/30\n",
      "56/56 [==============================] - 429s 8s/step - loss: 0.0345 - accuracy: 0.9983 - val_loss: 1.4250 - val_accuracy: 0.6458\n",
      "Epoch 27/30\n",
      "56/56 [==============================] - 424s 8s/step - loss: 0.0419 - accuracy: 0.9955 - val_loss: 1.3988 - val_accuracy: 0.6475\n",
      "Epoch 28/30\n",
      "56/56 [==============================] - 426s 8s/step - loss: 0.0291 - accuracy: 0.9994 - val_loss: 1.4328 - val_accuracy: 0.6553\n",
      "Epoch 29/30\n",
      "56/56 [==============================] - 429s 8s/step - loss: 0.0313 - accuracy: 0.9961 - val_loss: 1.4057 - val_accuracy: 0.6564\n",
      "Epoch 30/30\n",
      "56/56 [==============================] - 424s 8s/step - loss: 0.0262 - accuracy: 0.9972 - val_loss: 1.4528 - val_accuracy: 0.6475\n"
     ]
    }
   ],
   "source": [
    "# fit the model\n",
    "r = model.fit_generator(training_set, validation_data=test_set, epochs=30, steps_per_epoch=len(training_set), validation_steps=len(test_set))"
   ]
  },
  {
   "cell_type": "code",
   "execution_count": 20,
   "id": "447899cc",
   "metadata": {},
   "outputs": [
    {
     "data": {
      "image/png": "[encoded data removed]",
      "text/plain": [
       "<Figure size 432x288 with 1 Axes>"
      ]
     },
     "metadata": {
      "needs_background": "light"
     },
     "output_type": "display_data"
    },
    {
     "data": {
      "text/plain": [
       "<Figure size 432x288 with 0 Axes>"
      ]
     },
     "metadata": {},
     "output_type": "display_data"
    }
   ],
   "source": [
    "# loss\n",
    "plt.plot(r.history['loss'], label='train loss')\n",
    "plt.plot(r.history['val_loss'], label='val loss')\n",
    "plt.legend()\n",
    "plt.show()\n",
    "plt.savefig('LossVal_loss')"
   ]
  },
  {
   "cell_type": "code",
   "execution_count": 21,
   "id": "72da154c",
   "metadata": {},
   "outputs": [
    {
     "data": {
      "image/png": "[encoded data removed]",
      "text/plain": [
       "<Figure size 432x288 with 1 Axes>"
      ]
     },
     "metadata": {
      "needs_background": "light"
     },
     "output_type": "display_data"
    },
    {
     "data": {
      "text/plain": [
       "<Figure size 432x288 with 0 Axes>"
      ]
     },
     "metadata": {},
     "output_type": "display_data"
    }
   ],
   "source": [
    "# accuracies\n",
    "plt.plot(r.history['accuracy'], label='train acc')\n",
    "plt.plot(r.history['val_accuracy'], label='val acc')\n",
    "plt.legend()\n",
    "plt.show()\n",
    "plt.savefig('AccVal_acc')"
   ]
  },
  {
   "cell_type": "code",
   "execution_count": 22,
   "id": "7ad6a8f2",
   "metadata": {},
   "outputs": [],
   "source": [
    "#Save the trained model\n",
    "from tensorflow.keras.models import load_model\n",
    "model.save('my_vgg16.h5')"
   ]
  },
  {
   "cell_type": "code",
   "execution_count": null,
   "id": "33641ae0",
   "metadata": {},
   "outputs": [],
   "source": [
    "### Prediction"
   ]
  },
  {
   "cell_type": "code",
   "execution_count": 18,
   "id": "bc7bfbcf",
   "metadata": {},
   "outputs": [
    {
     "name": "stdout",
     "output_type": "stream",
     "text": [
      "13/57 [=====>........................] - ETA: 2:37"
     ]
    },
    {
     "name": "stderr",
     "output_type": "stream",
     "text": [
      "C:\\Users\\SUCHAL\\AppData\\Roaming\\Python\\Python39\\site-packages\\PIL\\Image.py:959: UserWarning: Palette images with Transparency expressed in bytes should be converted to RGBA images\n",
      "  warnings.warn(\n"
     ]
    },
    {
     "name": "stdout",
     "output_type": "stream",
     "text": [
      "57/57 [==============================] - 221s 4s/step\n"
     ]
    }
   ],
   "source": [
    "y_pred = model.predict(test_set)"
   ]
  },
  {
   "cell_type": "code",
   "execution_count": 19,
   "id": "2994050b",
   "metadata": {},
   "outputs": [
    {
     "data": {
      "text/plain": [
       "array([[0.08500873, 0.28780156, 0.09122134, ..., 0.0553831 , 0.03009822,\n",
       "        0.29880983],\n",
       "       [0.14573577, 0.33073416, 0.09233782, ..., 0.08821756, 0.02103272,\n",
       "        0.16039072],\n",
       "       [0.1662694 , 0.11895664, 0.23579189, ..., 0.04651655, 0.02365073,\n",
       "        0.21571493],\n",
       "       ...,\n",
       "       [0.17370652, 0.2263721 , 0.19223757, ..., 0.04988628, 0.02767803,\n",
       "        0.21742055],\n",
       "       [0.11831947, 0.21726446, 0.21636562, ..., 0.07452464, 0.02583865,\n",
       "        0.21819228],\n",
       "       [0.11149145, 0.13298374, 0.18819457, ..., 0.05813894, 0.01889151,\n",
       "        0.38676387]], dtype=float32)"
      ]
     },
     "execution_count": 19,
     "metadata": {},
     "output_type": "execute_result"
    }
   ],
   "source": [
    "y_pred"
   ]
  },
  {
   "cell_type": "code",
   "execution_count": 20,
   "id": "28bbd583",
   "metadata": {},
   "outputs": [],
   "source": [
    "#from keras.preprocessing.image import load_img\n",
    "from keras_preprocessing.image import load_img\n",
    "from keras.applications.imagenet_utils import preprocess_input\n",
    "import numpy as np\n",
    "from skimage.io import imread\n",
    "from pylab import *\n"
   ]
  },
  {
   "cell_type": "code",
   "execution_count": 21,
   "id": "6e2e5a7f",
   "metadata": {},
   "outputs": [],
   "source": [
    "import numpy as np\n",
    "y_pred = np.argmax(y_pred, axis=1)"
   ]
  },
  {
   "cell_type": "code",
   "execution_count": 22,
   "id": "10132f97",
   "metadata": {},
   "outputs": [
    {
     "data": {
      "text/plain": [
       "array([6, 1, 2, ..., 1, 6, 6], dtype=int64)"
      ]
     },
     "execution_count": 22,
     "metadata": {},
     "output_type": "execute_result"
    }
   ],
   "source": [
    "y_pred"
   ]
  },
  {
   "cell_type": "code",
   "execution_count": 23,
   "id": "f5e264f6",
   "metadata": {},
   "outputs": [],
   "source": [
    "from tensorflow.keras.models import load_model\n",
    "from tensorflow.keras.preprocessing import image"
   ]
  },
  {
   "cell_type": "code",
   "execution_count": 24,
   "id": "98f2757b",
   "metadata": {},
   "outputs": [],
   "source": [
    "#Load the model\n",
    "model=load_model('my_vgg16.h5')\n"
   ]
  },
  {
   "cell_type": "code",
   "execution_count": 25,
   "id": "2d0093f5",
   "metadata": {},
   "outputs": [],
   "source": [
    "from tensorflow.keras.preprocessing import image\n",
    "from tensorflow.keras.preprocessing.image import load_img\n",
    "from keras.preprocessing import image\n",
    "from keras.preprocessing import image\n",
    "from keras.preprocessing.image import ImageDataGenerator"
   ]
  },
  {
   "cell_type": "code",
   "execution_count": 26,
   "id": "c84a634b",
   "metadata": {},
   "outputs": [
    {
     "data": {
      "text/plain": [
       "<matplotlib.image.AxesImage at 0x1b757e3ea30>"
      ]
     },
     "execution_count": 26,
     "metadata": {},
     "output_type": "execute_result"
    },
    {
     "data": {
      "image/png": "[encoded data removed]",
      "text/plain": [
       "<Figure size 432x288 with 1 Axes>"
      ]
     },
     "metadata": {
      "needs_background": "light"
     },
     "output_type": "display_data"
    }
   ],
   "source": [
    "# Import the image for prediction\n",
    "from tensorflow.keras.preprocessing import image\n",
    "img=image.load_img(\"C:\\\\Users\\\\SUCHAL\\\\Desktop\\\\Research in Computing\\\\Thesis\\\\Codes\\\\VGG Version 1\\\\Dataset\\\\test\\\\e-waste\\\\e-waste 993.jpg\",target_size=(224,224))\n",
    "imshow(img)"
   ]
  },
  {
   "cell_type": "code",
   "execution_count": 27,
   "id": "4dd939bf",
   "metadata": {},
   "outputs": [
    {
     "data": {
      "text/plain": [
       "array([[[  1.,  70.,  39.],\n",
       "        [  2.,  69.,  38.],\n",
       "        [  1.,  68.,  37.],\n",
       "        ...,\n",
       "        [185., 200., 193.],\n",
       "        [165., 187., 174.],\n",
       "        [101., 139., 114.]],\n",
       "\n",
       "       [[ 14.,  88.,  55.],\n",
       "        [ 15.,  86.,  54.],\n",
       "        [ 15.,  86.,  54.],\n",
       "        ...,\n",
       "        [179., 199., 190.],\n",
       "        [130., 158., 143.],\n",
       "        [ 72., 116.,  89.]],\n",
       "\n",
       "       [[ 18., 100.,  62.],\n",
       "        [ 18., 100.,  62.],\n",
       "        [ 19.,  99.,  62.],\n",
       "        ...,\n",
       "        [154., 182., 168.],\n",
       "        [ 95., 137., 115.],\n",
       "        [ 57., 116.,  84.]],\n",
       "\n",
       "       ...,\n",
       "\n",
       "       [[ 15., 123.,  73.],\n",
       "        [ 18., 126.,  76.],\n",
       "        [ 19., 127.,  77.],\n",
       "        ...,\n",
       "        [153., 183., 183.],\n",
       "        [107., 138., 141.],\n",
       "        [ 73., 104., 107.]],\n",
       "\n",
       "       [[ 15., 123.,  73.],\n",
       "        [ 17., 125.,  75.],\n",
       "        [ 19., 125.,  76.],\n",
       "        ...,\n",
       "        [172., 198., 189.],\n",
       "        [160., 190., 180.],\n",
       "        [140., 170., 160.]],\n",
       "\n",
       "       [[ 17., 123.,  74.],\n",
       "        [ 18., 124.,  75.],\n",
       "        [ 17., 123.,  74.],\n",
       "        ...,\n",
       "        [161., 182., 167.],\n",
       "        [171., 196., 177.],\n",
       "        [167., 192., 173.]]], dtype=float32)"
      ]
     },
     "execution_count": 27,
     "metadata": {},
     "output_type": "execute_result"
    }
   ],
   "source": [
    "x=image.img_to_array(img)\n",
    "x"
   ]
  },
  {
   "cell_type": "code",
   "execution_count": 28,
   "id": "f3f79774",
   "metadata": {},
   "outputs": [
    {
     "data": {
      "text/plain": [
       "(224, 224, 3)"
      ]
     },
     "execution_count": 28,
     "metadata": {},
     "output_type": "execute_result"
    }
   ],
   "source": [
    "x.shape\n"
   ]
  },
  {
   "cell_type": "code",
   "execution_count": null,
   "id": "0c93548c",
   "metadata": {},
   "outputs": [],
   "source": [
    "x=x/255"
   ]
  },
  {
   "cell_type": "code",
   "execution_count": 29,
   "id": "46049444",
   "metadata": {},
   "outputs": [
    {
     "data": {
      "text/plain": [
       "(1, 224, 224, 3)"
      ]
     },
     "execution_count": 29,
     "metadata": {},
     "output_type": "execute_result"
    }
   ],
   "source": [
    "import numpy as np\n",
    "x=np.expand_dims(x,axis=0)\n",
    "img_data=preprocess_input(x)\n",
    "img_data.shape"
   ]
  },
  {
   "cell_type": "code",
   "execution_count": 30,
   "id": "3e8b120f",
   "metadata": {},
   "outputs": [
    {
     "data": {
      "text/plain": [
       "array([[[[ -64.939    ,  -46.779    , -122.68     ],\n",
       "         [ -65.939    ,  -47.779    , -121.68     ],\n",
       "         [ -66.939    ,  -48.779    , -122.68     ],\n",
       "         ...,\n",
       "         [  89.061    ,   83.221    ,   61.32     ],\n",
       "         [  70.061    ,   70.221    ,   41.32     ],\n",
       "         [  10.060997 ,   22.221    ,  -22.68     ]],\n",
       "\n",
       "        [[ -48.939003 ,  -28.779    , -109.68     ],\n",
       "         [ -49.939003 ,  -30.779    , -108.68     ],\n",
       "         [ -49.939003 ,  -30.779    , -108.68     ],\n",
       "         ...,\n",
       "         [  86.061    ,   82.221    ,   55.32     ],\n",
       "         [  39.060997 ,   41.221    ,    6.3199997],\n",
       "         [ -14.939003 ,   -0.7789993,  -51.68     ]],\n",
       "\n",
       "        [[ -41.939003 ,  -16.779    , -105.68     ],\n",
       "         [ -41.939003 ,  -16.779    , -105.68     ],\n",
       "         [ -41.939003 ,  -17.779    , -104.68     ],\n",
       "         ...,\n",
       "         [  64.061    ,   65.221    ,   30.32     ],\n",
       "         [  11.060997 ,   20.221    ,  -28.68     ],\n",
       "         [ -19.939003 ,   -0.7789993,  -66.68     ]],\n",
       "\n",
       "        ...,\n",
       "\n",
       "        [[ -30.939003 ,    6.2210007, -108.68     ],\n",
       "         [ -27.939003 ,    9.221001 , -105.68     ],\n",
       "         [ -26.939003 ,   10.221001 , -104.68     ],\n",
       "         ...,\n",
       "         [  79.061    ,   66.221    ,   29.32     ],\n",
       "         [  37.060997 ,   21.221    ,  -16.68     ],\n",
       "         [   3.060997 ,  -12.778999 ,  -50.68     ]],\n",
       "\n",
       "        [[ -30.939003 ,    6.2210007, -108.68     ],\n",
       "         [ -28.939003 ,    8.221001 , -106.68     ],\n",
       "         [ -27.939003 ,    8.221001 , -104.68     ],\n",
       "         ...,\n",
       "         [  85.061    ,   81.221    ,   48.32     ],\n",
       "         [  76.061    ,   73.221    ,   36.32     ],\n",
       "         [  56.060997 ,   53.221    ,   16.32     ]],\n",
       "\n",
       "        [[ -29.939003 ,    6.2210007, -106.68     ],\n",
       "         [ -28.939003 ,    7.2210007, -105.68     ],\n",
       "         [ -29.939003 ,    6.2210007, -106.68     ],\n",
       "         ...,\n",
       "         [  63.060997 ,   65.221    ,   37.32     ],\n",
       "         [  73.061    ,   79.221    ,   47.32     ],\n",
       "         [  69.061    ,   75.221    ,   43.32     ]]]], dtype=float32)"
      ]
     },
     "execution_count": 30,
     "metadata": {},
     "output_type": "execute_result"
    }
   ],
   "source": [
    "img_data"
   ]
  },
  {
   "cell_type": "code",
   "execution_count": 31,
   "id": "e038b84d",
   "metadata": {},
   "outputs": [
    {
     "name": "stdout",
     "output_type": "stream",
     "text": [
      "1/1 [==============================] - 0s 287ms/step\n"
     ]
    },
    {
     "data": {
      "text/plain": [
       "array([[0., 1., 0., 0., 0., 0., 0.]], dtype=float32)"
      ]
     },
     "execution_count": 31,
     "metadata": {},
     "output_type": "execute_result"
    }
   ],
   "source": [
    "#Predict the class\n",
    "model.predict(img_data)\n"
   ]
  },
  {
   "cell_type": "code",
   "execution_count": 32,
   "id": "16f9d2a0",
   "metadata": {},
   "outputs": [],
   "source": [
    "#1: cardboard, 2:e-waste, 3:glass, 4:medical, 5:metal, 6:paper, 7:plastic."
   ]
  },
  {
   "cell_type": "code",
   "execution_count": 33,
   "id": "fdb3a84c",
   "metadata": {},
   "outputs": [
    {
     "name": "stdout",
     "output_type": "stream",
     "text": [
      "1/1 [==============================] - 0s 121ms/step\n"
     ]
    }
   ],
   "source": [
    "a=np.argmax(model.predict(img_data), axis=1)\n"
   ]
  },
  {
   "cell_type": "code",
   "execution_count": 34,
   "id": "29c4cdf6",
   "metadata": {},
   "outputs": [
    {
     "data": {
      "text/plain": [
       "array([ True])"
      ]
     },
     "execution_count": 34,
     "metadata": {},
     "output_type": "execute_result"
    }
   ],
   "source": [
    "a==1"
   ]
  },
  {
   "cell_type": "code",
   "execution_count": null,
   "id": "63f02a26",
   "metadata": {},
   "outputs": [],
   "source": []
  }
 ],
 "metadata": {
  "kernelspec": {
   "display_name": "Python 3 (ipykernel)",
   "language": "python",
   "name": "python3"
  },
  "language_info": {
   "codemirror_mode": {
    "name": "ipython",
    "version": 3
   },
   "file_extension": ".py",
   "mimetype": "text/x-python",
   "name": "python",
   "nbconvert_exporter": "python",
   "pygments_lexer": "ipython3",
   "version": "3.9.7"
  }
 },
 "nbformat": 4,
 "nbformat_minor": 5
}
