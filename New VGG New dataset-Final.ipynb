{
 "cells": [
  {
   "cell_type": "code",
   "execution_count": 55,
   "id": "df9d47c6",
   "metadata": {},
   "outputs": [
    {
     "name": "stdout",
     "output_type": "stream",
     "text": [
      "2.9.1\n"
     ]
    }
   ],
   "source": [
    "import tensorflow as tf\n",
    "print(tf.__version__)"
   ]
  },
  {
   "cell_type": "code",
   "execution_count": 56,
   "id": "bc295c8d",
   "metadata": {},
   "outputs": [],
   "source": [
    "from keras.layers import Input, Lambda, Dense, Flatten\n",
    "from keras.models import Model\n",
    "from keras.applications.vgg16 import VGG16\n",
    "from keras.applications.vgg16 import preprocess_input\n",
    "from keras.preprocessing import image\n",
    "from keras.preprocessing.image import ImageDataGenerator\n",
    "from keras.models import Sequential\n",
    "import numpy as np\n",
    "from glob import glob\n",
    "import matplotlib.pyplot as plt\n",
    "import os\n",
    "#from sklearn.model_selection import train_test_split"
   ]
  },
  {
   "cell_type": "code",
   "execution_count": 57,
   "id": "e74b3dc9",
   "metadata": {},
   "outputs": [],
   "source": [
    "# set image size\n",
    "IMAGE_SIZE = [224, 224]"
   ]
  },
  {
   "cell_type": "code",
   "execution_count": 58,
   "id": "bf4cf946",
   "metadata": {},
   "outputs": [],
   "source": [
    "train_dir = 'Dataset\\train'\n",
    "test_dir = 'Dataset\\test'"
   ]
  },
  {
   "cell_type": "code",
   "execution_count": 59,
   "id": "cf37d197",
   "metadata": {},
   "outputs": [],
   "source": [
    "# adding preprocessing layer to the front of VGG\n",
    "Myvgg = VGG16(input_shape=IMAGE_SIZE + [3], weights='imagenet', include_top=False)"
   ]
  },
  {
   "cell_type": "code",
   "execution_count": 60,
   "id": "33965877",
   "metadata": {},
   "outputs": [],
   "source": [
    "# do not train current weights\n",
    "for layer in Myvgg.layers:\n",
    "  layer.trainable = False"
   ]
  },
  {
   "cell_type": "code",
   "execution_count": 61,
   "id": "e1cbef12",
   "metadata": {},
   "outputs": [
    {
     "data": {
      "text/plain": [
       "['Dataset/train\\\\cardboard',\n",
       " 'Dataset/train\\\\glass',\n",
       " 'Dataset/train\\\\metal',\n",
       " 'Dataset/train\\\\paper',\n",
       " 'Dataset/train\\\\plastic',\n",
       " 'Dataset/train\\\\trash']"
      ]
     },
     "execution_count": 61,
     "metadata": {},
     "output_type": "execute_result"
    }
   ],
   "source": [
    "dir = glob('Dataset/train/*')\n",
    "dir"
   ]
  },
  {
   "cell_type": "code",
   "execution_count": 62,
   "id": "0d38890a",
   "metadata": {},
   "outputs": [
    {
     "name": "stdout",
     "output_type": "stream",
     "text": [
      "Model: \"vgg16\"\n",
      "_________________________________________________________________\n",
      " Layer (type)                Output Shape              Param #   \n",
      "=================================================================\n",
      " input_2 (InputLayer)        [(None, 224, 224, 3)]     0         \n",
      "                                                                 \n",
      " block1_conv1 (Conv2D)       (None, 224, 224, 64)      1792      \n",
      "                                                                 \n",
      " block1_conv2 (Conv2D)       (None, 224, 224, 64)      36928     \n",
      "                                                                 \n",
      " block1_pool (MaxPooling2D)  (None, 112, 112, 64)      0         \n",
      "                                                                 \n",
      " block2_conv1 (Conv2D)       (None, 112, 112, 128)     73856     \n",
      "                                                                 \n",
      " block2_conv2 (Conv2D)       (None, 112, 112, 128)     147584    \n",
      "                                                                 \n",
      " block2_pool (MaxPooling2D)  (None, 56, 56, 128)       0         \n",
      "                                                                 \n",
      " block3_conv1 (Conv2D)       (None, 56, 56, 256)       295168    \n",
      "                                                                 \n",
      " block3_conv2 (Conv2D)       (None, 56, 56, 256)       590080    \n",
      "                                                                 \n",
      " block3_conv3 (Conv2D)       (None, 56, 56, 256)       590080    \n",
      "                                                                 \n",
      " block3_pool (MaxPooling2D)  (None, 28, 28, 256)       0         \n",
      "                                                                 \n",
      " block4_conv1 (Conv2D)       (None, 28, 28, 512)       1180160   \n",
      "                                                                 \n",
      " block4_conv2 (Conv2D)       (None, 28, 28, 512)       2359808   \n",
      "                                                                 \n",
      " block4_conv3 (Conv2D)       (None, 28, 28, 512)       2359808   \n",
      "                                                                 \n",
      " block4_pool (MaxPooling2D)  (None, 14, 14, 512)       0         \n",
      "                                                                 \n",
      " block5_conv1 (Conv2D)       (None, 14, 14, 512)       2359808   \n",
      "                                                                 \n",
      " block5_conv2 (Conv2D)       (None, 14, 14, 512)       2359808   \n",
      "                                                                 \n",
      " block5_conv3 (Conv2D)       (None, 14, 14, 512)       2359808   \n",
      "                                                                 \n",
      " block5_pool (MaxPooling2D)  (None, 7, 7, 512)         0         \n",
      "                                                                 \n",
      "=================================================================\n",
      "Total params: 14,714,688\n",
      "Trainable params: 0\n",
      "Non-trainable params: 14,714,688\n",
      "_________________________________________________________________\n"
     ]
    }
   ],
   "source": [
    "Myvgg.summary()"
   ]
  },
  {
   "cell_type": "code",
   "execution_count": 63,
   "id": "22eaf6f9",
   "metadata": {},
   "outputs": [],
   "source": [
    "# our layers - you can add more if you want\n",
    "#x = Flatten()(vgg.output)\n",
    "#prediction = Dense(len(folders), activation='softmax')(x)"
   ]
  },
  {
   "cell_type": "code",
   "execution_count": 64,
   "id": "07700b00",
   "metadata": {},
   "outputs": [],
   "source": [
    "# preparing model structure\n",
    "\n",
    "x = Flatten(name='flatten')(Myvgg.output)\n",
    "#x = Dense(4096, activation='relu', name='fc1')(x)\n",
    "#x = Dense(4096, activation='relu', name='fc2')(x)\n",
    "x = Dense(len(dir), activation='softmax', name='predictions')(x)"
   ]
  },
  {
   "cell_type": "code",
   "execution_count": 65,
   "id": "152bcd54",
   "metadata": {},
   "outputs": [],
   "source": [
    "# create a model object\n",
    "model = Model(inputs=Myvgg.input, outputs=x)"
   ]
  },
  {
   "cell_type": "code",
   "execution_count": 66,
   "id": "35bbfeef",
   "metadata": {},
   "outputs": [
    {
     "name": "stdout",
     "output_type": "stream",
     "text": [
      "Model: \"model_1\"\n",
      "_________________________________________________________________\n",
      " Layer (type)                Output Shape              Param #   \n",
      "=================================================================\n",
      " input_2 (InputLayer)        [(None, 224, 224, 3)]     0         \n",
      "                                                                 \n",
      " block1_conv1 (Conv2D)       (None, 224, 224, 64)      1792      \n",
      "                                                                 \n",
      " block1_conv2 (Conv2D)       (None, 224, 224, 64)      36928     \n",
      "                                                                 \n",
      " block1_pool (MaxPooling2D)  (None, 112, 112, 64)      0         \n",
      "                                                                 \n",
      " block2_conv1 (Conv2D)       (None, 112, 112, 128)     73856     \n",
      "                                                                 \n",
      " block2_conv2 (Conv2D)       (None, 112, 112, 128)     147584    \n",
      "                                                                 \n",
      " block2_pool (MaxPooling2D)  (None, 56, 56, 128)       0         \n",
      "                                                                 \n",
      " block3_conv1 (Conv2D)       (None, 56, 56, 256)       295168    \n",
      "                                                                 \n",
      " block3_conv2 (Conv2D)       (None, 56, 56, 256)       590080    \n",
      "                                                                 \n",
      " block3_conv3 (Conv2D)       (None, 56, 56, 256)       590080    \n",
      "                                                                 \n",
      " block3_pool (MaxPooling2D)  (None, 28, 28, 256)       0         \n",
      "                                                                 \n",
      " block4_conv1 (Conv2D)       (None, 28, 28, 512)       1180160   \n",
      "                                                                 \n",
      " block4_conv2 (Conv2D)       (None, 28, 28, 512)       2359808   \n",
      "                                                                 \n",
      " block4_conv3 (Conv2D)       (None, 28, 28, 512)       2359808   \n",
      "                                                                 \n",
      " block4_pool (MaxPooling2D)  (None, 14, 14, 512)       0         \n",
      "                                                                 \n",
      " block5_conv1 (Conv2D)       (None, 14, 14, 512)       2359808   \n",
      "                                                                 \n",
      " block5_conv2 (Conv2D)       (None, 14, 14, 512)       2359808   \n",
      "                                                                 \n",
      " block5_conv3 (Conv2D)       (None, 14, 14, 512)       2359808   \n",
      "                                                                 \n",
      " block5_pool (MaxPooling2D)  (None, 7, 7, 512)         0         \n",
      "                                                                 \n",
      " flatten (Flatten)           (None, 25088)             0         \n",
      "                                                                 \n",
      " predictions (Dense)         (None, 6)                 150534    \n",
      "                                                                 \n",
      "=================================================================\n",
      "Total params: 14,865,222\n",
      "Trainable params: 150,534\n",
      "Non-trainable params: 14,714,688\n",
      "_________________________________________________________________\n"
     ]
    }
   ],
   "source": [
    "model.summary()"
   ]
  },
  {
   "cell_type": "code",
   "execution_count": 67,
   "id": "2864cbec",
   "metadata": {},
   "outputs": [],
   "source": [
    "model.compile(optimizer='adam', loss='categorical_crossentropy', metrics=['accuracy'])"
   ]
  },
  {
   "cell_type": "code",
   "execution_count": 68,
   "id": "9bc21ca7",
   "metadata": {},
   "outputs": [],
   "source": [
    "train_datagen = ImageDataGenerator(rescale = 1./255,\n",
    "                                   shear_range = 0.2,\n",
    "                                   zoom_range = 0.2,\n",
    "                                   horizontal_flip = True)\n",
    "\n",
    "test_datagen = ImageDataGenerator(rescale = 1./255)"
   ]
  },
  {
   "cell_type": "code",
   "execution_count": 69,
   "id": "008952b9",
   "metadata": {},
   "outputs": [
    {
     "name": "stdout",
     "output_type": "stream",
     "text": [
      "Found 1294 images belonging to 6 classes.\n",
      "Found 1233 images belonging to 6 classes.\n"
     ]
    }
   ],
   "source": [
    "training_set = train_datagen.flow_from_directory(\"C:\\\\Users\\\\SUCHAL\\\\Desktop\\\\Research in Computing\\\\Thesis\\\\Codes\\\\Trial 2 VGG\\\\Dataset\\\\train\",\n",
    "                                                 target_size = (224, 224),\n",
    "                                                 batch_size = 32,\n",
    "                                                 class_mode = 'categorical')\n",
    "\n",
    "test_set = test_datagen.flow_from_directory(\"C:\\\\Users\\\\SUCHAL\\\\Desktop\\\\Research in Computing\\\\Thesis\\\\Codes\\\\Trial 2 VGG\\\\Dataset\\\\test\",\n",
    "                                            target_size = (224, 224),\n",
    "                                            batch_size = 32,\n",
    "                                            class_mode = 'categorical')"
   ]
  },
  {
   "cell_type": "code",
   "execution_count": 70,
   "id": "4ca084f8",
   "metadata": {},
   "outputs": [
    {
     "name": "stdout",
     "output_type": "stream",
     "text": [
      "Epoch 1/10\n",
      "41/41 [==============================] - 309s 8s/step - loss: 1.5218 - accuracy: 0.4714 - val_loss: 0.9769 - val_accuracy: 0.6204\n",
      "Epoch 2/10\n",
      "41/41 [==============================] - 299s 7s/step - loss: 0.7639 - accuracy: 0.7318 - val_loss: 0.8969 - val_accuracy: 0.6667\n",
      "Epoch 3/10\n",
      "41/41 [==============================] - 292s 7s/step - loss: 0.6653 - accuracy: 0.7612 - val_loss: 0.9671 - val_accuracy: 0.6723\n",
      "Epoch 4/10\n",
      "41/41 [==============================] - 986s 25s/step - loss: 0.5212 - accuracy: 0.8161 - val_loss: 0.8891 - val_accuracy: 0.6813\n",
      "Epoch 5/10\n",
      "41/41 [==============================] - 315s 8s/step - loss: 0.3862 - accuracy: 0.8794 - val_loss: 0.8176 - val_accuracy: 0.7088\n",
      "Epoch 6/10\n",
      "41/41 [==============================] - 312s 8s/step - loss: 0.3261 - accuracy: 0.8988 - val_loss: 0.8413 - val_accuracy: 0.7226\n",
      "Epoch 7/10\n",
      "41/41 [==============================] - 323s 8s/step - loss: 0.2906 - accuracy: 0.9119 - val_loss: 0.7830 - val_accuracy: 0.7470\n",
      "Epoch 8/10\n",
      "41/41 [==============================] - 322s 8s/step - loss: 0.2591 - accuracy: 0.9250 - val_loss: 0.8098 - val_accuracy: 0.7218\n",
      "Epoch 9/10\n",
      "41/41 [==============================] - 320s 8s/step - loss: 0.2228 - accuracy: 0.9405 - val_loss: 0.8067 - val_accuracy: 0.7470\n",
      "Epoch 10/10\n",
      "41/41 [==============================] - 321s 8s/step - loss: 0.1764 - accuracy: 0.9621 - val_loss: 0.7936 - val_accuracy: 0.7405\n"
     ]
    }
   ],
   "source": [
    "# fit the model\n",
    "r = model.fit(training_set, validation_data=test_set, epochs=10, steps_per_epoch=len(training_set), validation_steps=len(test_set))"
   ]
  },
  {
   "cell_type": "code",
   "execution_count": 71,
   "id": "447899cc",
   "metadata": {},
   "outputs": [
    {
     "data": {
      "image/png": "[encoded data removed]",
      "text/plain": [
       "<Figure size 432x288 with 1 Axes>"
      ]
     },
     "metadata": {
      "needs_background": "light"
     },
     "output_type": "display_data"
    },
    {
     "data": {
      "text/plain": [
       "<Figure size 432x288 with 0 Axes>"
      ]
     },
     "metadata": {},
     "output_type": "display_data"
    }
   ],
   "source": [
    "# loss\n",
    "plt.plot(r.history['loss'], label='train loss')\n",
    "plt.plot(r.history['val_loss'], label='val loss')\n",
    "plt.legend()\n",
    "plt.show()\n",
    "plt.savefig('LossVal_loss')"
   ]
  },
  {
   "cell_type": "code",
   "execution_count": 72,
   "id": "72da154c",
   "metadata": {},
   "outputs": [
    {
     "data": {
      "image/png": "[encoded data removed]",
      "text/plain": [
       "<Figure size 432x288 with 1 Axes>"
      ]
     },
     "metadata": {
      "needs_background": "light"
     },
     "output_type": "display_data"
    },
    {
     "data": {
      "text/plain": [
       "<Figure size 432x288 with 0 Axes>"
      ]
     },
     "metadata": {},
     "output_type": "display_data"
    }
   ],
   "source": [
    "# accuracies\n",
    "plt.plot(r.history['accuracy'], label='train acc')\n",
    "plt.plot(r.history['val_accuracy'], label='val acc')\n",
    "plt.legend()\n",
    "plt.show()\n",
    "plt.savefig('AccVal_acc')"
   ]
  },
  {
   "cell_type": "code",
   "execution_count": 73,
   "id": "7ad6a8f2",
   "metadata": {},
   "outputs": [],
   "source": [
    "#Save the trained model\n",
    "from tensorflow.keras.models import load_model\n",
    "model.save('my_vgg16.h5')"
   ]
  },
  {
   "cell_type": "code",
   "execution_count": 74,
   "id": "33641ae0",
   "metadata": {},
   "outputs": [],
   "source": [
    "### Prediction"
   ]
  },
  {
   "cell_type": "code",
   "execution_count": 75,
   "id": "bc7bfbcf",
   "metadata": {},
   "outputs": [
    {
     "name": "stdout",
     "output_type": "stream",
     "text": [
      "39/39 [==============================] - 165s 4s/step\n"
     ]
    }
   ],
   "source": [
    "y_pred = model.predict(test_set)"
   ]
  },
  {
   "cell_type": "code",
   "execution_count": 76,
   "id": "2994050b",
   "metadata": {},
   "outputs": [
    {
     "data": {
      "text/plain": [
       "array([[6.1930222e-03, 4.0643427e-01, 4.2716344e-03, 1.6686912e-01,\n",
       "        3.8158280e-01, 3.4649231e-02],\n",
       "       [4.3558993e-04, 4.3486300e-01, 1.9667543e-01, 2.1529959e-03,\n",
       "        3.6141837e-01, 4.4545471e-03],\n",
       "       [9.4282832e-06, 2.8641182e-07, 1.2012472e-05, 9.9995220e-01,\n",
       "        7.5955013e-06, 1.8557876e-05],\n",
       "       ...,\n",
       "       [8.7973642e-01, 6.1455750e-05, 3.0316494e-04, 1.0746560e-01,\n",
       "        1.3691736e-03, 1.1064092e-02],\n",
       "       [1.8584438e-03, 7.2493672e-01, 2.5634587e-01, 1.0819165e-03,\n",
       "        1.5772643e-02, 4.4595804e-06],\n",
       "       [4.6693287e-05, 2.2020512e-03, 9.9165255e-01, 1.7283917e-03,\n",
       "        2.3898858e-04, 4.1314382e-03]], dtype=float32)"
      ]
     },
     "execution_count": 76,
     "metadata": {},
     "output_type": "execute_result"
    }
   ],
   "source": [
    "y_pred"
   ]
  },
  {
   "cell_type": "code",
   "execution_count": 77,
   "id": "28bbd583",
   "metadata": {},
   "outputs": [],
   "source": [
    "#from keras.preprocessing.image import load_img\n",
    "from keras_preprocessing.image import load_img\n",
    "from keras.applications.imagenet_utils import preprocess_input\n",
    "import numpy as np\n",
    "from skimage.io import imread\n",
    "from pylab import *\n"
   ]
  },
  {
   "cell_type": "code",
   "execution_count": 78,
   "id": "6e2e5a7f",
   "metadata": {},
   "outputs": [],
   "source": [
    "import numpy as np\n",
    "y_pred = np.argmax(y_pred, axis=1)"
   ]
  },
  {
   "cell_type": "code",
   "execution_count": 79,
   "id": "10132f97",
   "metadata": {},
   "outputs": [
    {
     "data": {
      "text/plain": [
       "array([1, 1, 3, ..., 0, 1, 2], dtype=int64)"
      ]
     },
     "execution_count": 79,
     "metadata": {},
     "output_type": "execute_result"
    }
   ],
   "source": [
    "y_pred"
   ]
  },
  {
   "cell_type": "code",
   "execution_count": 80,
   "id": "f5e264f6",
   "metadata": {},
   "outputs": [],
   "source": [
    "from tensorflow.keras.models import load_model\n",
    "from tensorflow.keras.preprocessing import image"
   ]
  },
  {
   "cell_type": "code",
   "execution_count": 81,
   "id": "98f2757b",
   "metadata": {},
   "outputs": [],
   "source": [
    "#Load the model\n",
    "model=load_model('my_vgg16.h5')\n"
   ]
  },
  {
   "cell_type": "code",
   "execution_count": 82,
   "id": "2d0093f5",
   "metadata": {},
   "outputs": [],
   "source": [
    "from tensorflow.keras.preprocessing import image\n",
    "from tensorflow.keras.preprocessing.image import load_img\n",
    "from keras.preprocessing import image\n",
    "from keras.preprocessing import image\n",
    "from keras.preprocessing.image import ImageDataGenerator"
   ]
  },
  {
   "cell_type": "code",
   "execution_count": 113,
   "id": "c84a634b",
   "metadata": {},
   "outputs": [
    {
     "data": {
      "text/plain": [
       "<matplotlib.image.AxesImage at 0x1a6bfcebaf0>"
      ]
     },
     "execution_count": 113,
     "metadata": {},
     "output_type": "execute_result"
    },
    {
     "data": {
      "image/png": "[encoded data removed]",
      "text/plain": [
       "<Figure size 432x288 with 1 Axes>"
      ]
     },
     "metadata": {
      "needs_background": "light"
     },
     "output_type": "display_data"
    }
   ],
   "source": [
    "# Import the image for prediction\n",
    "from tensorflow.keras.preprocessing import image\n",
    "img=image.load_img(\"C:\\\\Users\\\\SUCHAL\\\\Desktop\\\\Research in Computing\\\\Thesis\\\\Codes\\\\Trial 2 VGG\\\\Dataset\\\\test\\\\paper\\\\paper566.jpg\",target_size=(224,224))\n",
    "imshow(img)"
   ]
  },
  {
   "cell_type": "code",
   "execution_count": 114,
   "id": "4dd939bf",
   "metadata": {},
   "outputs": [
    {
     "data": {
      "text/plain": [
       "array([[[255., 254., 251.],\n",
       "        [255., 254., 251.],\n",
       "        [255., 255., 253.],\n",
       "        ...,\n",
       "        [178., 178., 176.],\n",
       "        [177., 177., 175.],\n",
       "        [176., 176., 174.]],\n",
       "\n",
       "       [[255., 254., 251.],\n",
       "        [255., 254., 251.],\n",
       "        [255., 255., 253.],\n",
       "        ...,\n",
       "        [178., 178., 176.],\n",
       "        [177., 177., 175.],\n",
       "        [177., 177., 175.]],\n",
       "\n",
       "       [[255., 255., 253.],\n",
       "        [255., 255., 253.],\n",
       "        [255., 255., 253.],\n",
       "        ...,\n",
       "        [179., 179., 177.],\n",
       "        [178., 178., 176.],\n",
       "        [177., 177., 175.]],\n",
       "\n",
       "       ...,\n",
       "\n",
       "       [[204., 205., 199.],\n",
       "        [203., 204., 198.],\n",
       "        [202., 203., 197.],\n",
       "        ...,\n",
       "        [143., 144., 139.],\n",
       "        [142., 143., 138.],\n",
       "        [140., 141., 136.]],\n",
       "\n",
       "       [[204., 205., 199.],\n",
       "        [203., 204., 198.],\n",
       "        [202., 203., 197.],\n",
       "        ...,\n",
       "        [143., 144., 139.],\n",
       "        [141., 142., 137.],\n",
       "        [140., 141., 136.]],\n",
       "\n",
       "       [[204., 205., 199.],\n",
       "        [203., 204., 198.],\n",
       "        [202., 203., 197.],\n",
       "        ...,\n",
       "        [142., 143., 138.],\n",
       "        [141., 142., 137.],\n",
       "        [139., 140., 135.]]], dtype=float32)"
      ]
     },
     "execution_count": 114,
     "metadata": {},
     "output_type": "execute_result"
    }
   ],
   "source": [
    "x=image.img_to_array(img)\n",
    "x"
   ]
  },
  {
   "cell_type": "code",
   "execution_count": 115,
   "id": "f3f79774",
   "metadata": {},
   "outputs": [
    {
     "data": {
      "text/plain": [
       "(224, 224, 3)"
      ]
     },
     "execution_count": 115,
     "metadata": {},
     "output_type": "execute_result"
    }
   ],
   "source": [
    "x.shape\n"
   ]
  },
  {
   "cell_type": "code",
   "execution_count": 116,
   "id": "d4fb7f5c",
   "metadata": {},
   "outputs": [],
   "source": [
    "#x=x/255"
   ]
  },
  {
   "cell_type": "code",
   "execution_count": 117,
   "id": "46049444",
   "metadata": {},
   "outputs": [
    {
     "data": {
      "text/plain": [
       "(1, 224, 224, 3)"
      ]
     },
     "execution_count": 117,
     "metadata": {},
     "output_type": "execute_result"
    }
   ],
   "source": [
    "import numpy as np\n",
    "x=np.expand_dims(x,axis=0)\n",
    "img_data=preprocess_input(x)\n",
    "img_data.shape"
   ]
  },
  {
   "cell_type": "code",
   "execution_count": 118,
   "id": "3e8b120f",
   "metadata": {},
   "outputs": [
    {
     "data": {
      "text/plain": [
       "array([[[[147.061   , 137.22101 , 131.32    ],\n",
       "         [147.061   , 137.22101 , 131.32    ],\n",
       "         [149.061   , 138.22101 , 131.32    ],\n",
       "         ...,\n",
       "         [ 72.061   ,  61.221   ,  54.32    ],\n",
       "         [ 71.061   ,  60.221   ,  53.32    ],\n",
       "         [ 70.061   ,  59.221   ,  52.32    ]],\n",
       "\n",
       "        [[147.061   , 137.22101 , 131.32    ],\n",
       "         [147.061   , 137.22101 , 131.32    ],\n",
       "         [149.061   , 138.22101 , 131.32    ],\n",
       "         ...,\n",
       "         [ 72.061   ,  61.221   ,  54.32    ],\n",
       "         [ 71.061   ,  60.221   ,  53.32    ],\n",
       "         [ 71.061   ,  60.221   ,  53.32    ]],\n",
       "\n",
       "        [[149.061   , 138.22101 , 131.32    ],\n",
       "         [149.061   , 138.22101 , 131.32    ],\n",
       "         [149.061   , 138.22101 , 131.32    ],\n",
       "         ...,\n",
       "         [ 73.061   ,  62.221   ,  55.32    ],\n",
       "         [ 72.061   ,  61.221   ,  54.32    ],\n",
       "         [ 71.061   ,  60.221   ,  53.32    ]],\n",
       "\n",
       "        ...,\n",
       "\n",
       "        [[ 95.061   ,  88.221   ,  80.32    ],\n",
       "         [ 94.061   ,  87.221   ,  79.32    ],\n",
       "         [ 93.061   ,  86.221   ,  78.32    ],\n",
       "         ...,\n",
       "         [ 35.060997,  27.221   ,  19.32    ],\n",
       "         [ 34.060997,  26.221   ,  18.32    ],\n",
       "         [ 32.060997,  24.221   ,  16.32    ]],\n",
       "\n",
       "        [[ 95.061   ,  88.221   ,  80.32    ],\n",
       "         [ 94.061   ,  87.221   ,  79.32    ],\n",
       "         [ 93.061   ,  86.221   ,  78.32    ],\n",
       "         ...,\n",
       "         [ 35.060997,  27.221   ,  19.32    ],\n",
       "         [ 33.060997,  25.221   ,  17.32    ],\n",
       "         [ 32.060997,  24.221   ,  16.32    ]],\n",
       "\n",
       "        [[ 95.061   ,  88.221   ,  80.32    ],\n",
       "         [ 94.061   ,  87.221   ,  79.32    ],\n",
       "         [ 93.061   ,  86.221   ,  78.32    ],\n",
       "         ...,\n",
       "         [ 34.060997,  26.221   ,  18.32    ],\n",
       "         [ 33.060997,  25.221   ,  17.32    ],\n",
       "         [ 31.060997,  23.221   ,  15.32    ]]]], dtype=float32)"
      ]
     },
     "execution_count": 118,
     "metadata": {},
     "output_type": "execute_result"
    }
   ],
   "source": [
    "img_data"
   ]
  },
  {
   "cell_type": "code",
   "execution_count": 119,
   "id": "e038b84d",
   "metadata": {},
   "outputs": [
    {
     "name": "stdout",
     "output_type": "stream",
     "text": [
      "1/1 [==============================] - 0s 147ms/step\n"
     ]
    },
    {
     "data": {
      "text/plain": [
       "array([[0., 0., 0., 1., 0., 0.]], dtype=float32)"
      ]
     },
     "execution_count": 119,
     "metadata": {},
     "output_type": "execute_result"
    }
   ],
   "source": [
    "#Predict the class\n",
    "model.predict(img_data)\n"
   ]
  },
  {
   "cell_type": "code",
   "execution_count": 120,
   "id": "16f9d2a0",
   "metadata": {},
   "outputs": [],
   "source": [
    "#1: cardboard, 2:glass, 3:metal, 4:paper, 5:plastic, 6:trash."
   ]
  },
  {
   "cell_type": "code",
   "execution_count": 121,
   "id": "fdb3a84c",
   "metadata": {},
   "outputs": [
    {
     "name": "stdout",
     "output_type": "stream",
     "text": [
      "1/1 [==============================] - 0s 132ms/step\n"
     ]
    }
   ],
   "source": [
    "a=np.argmax(model.predict(img_data), axis=1)\n"
   ]
  },
  {
   "cell_type": "code",
   "execution_count": 122,
   "id": "29c4cdf6",
   "metadata": {},
   "outputs": [
    {
     "data": {
      "text/plain": [
       "array([False])"
      ]
     },
     "execution_count": 122,
     "metadata": {},
     "output_type": "execute_result"
    }
   ],
   "source": [
    "a==1"
   ]
  },
  {
   "cell_type": "code",
   "execution_count": null,
   "id": "63f02a26",
   "metadata": {},
   "outputs": [],
   "source": []
  }
 ],
 "metadata": {
  "kernelspec": {
   "display_name": "Python 3 (ipykernel)",
   "language": "python",
   "name": "python3"
  },
  "language_info": {
   "codemirror_mode": {
    "name": "ipython",
    "version": 3
   },
   "file_extension": ".py",
   "mimetype": "text/x-python",
   "name": "python",
   "nbconvert_exporter": "python",
   "pygments_lexer": "ipython3",
   "version": "3.9.7"
  }
 },
 "nbformat": 4,
 "nbformat_minor": 5
}
